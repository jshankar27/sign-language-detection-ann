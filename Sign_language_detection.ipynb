{
 "cells": [
  {
   "cell_type": "code",
   "execution_count": 213,
   "id": "2d2f255b-2bfe-43b8-8bb9-7b7ecfa123d3",
   "metadata": {},
   "outputs": [],
   "source": [
    "import pandas as pd\n",
    "import numpy as np\n",
    "import matplotlib.pyplot as plt\n",
    "import seaborn as sns\n",
    "%matplotlib inline\n",
    "\n",
    "import tensorflow as tf\n",
    "import keras\n",
    "from tensorflow.keras.preprocessing.image import ImageDataGenerator\n",
    "from tensorflow.keras import applications\n",
    "from tensorflow.keras.models import Sequential, load_model\n",
    "from tensorflow.keras.preprocessing import image\n",
    "from tensorflow.keras.layers import Flatten\n",
    "from tensorflow.keras.layers import Conv2D, MaxPooling2D, GlobalAveragePooling2D, Dense, Dropout\n",
    "\n",
    "import warnings\n",
    "warnings.filterwarnings('ignore')"
   ]
  },
  {
   "cell_type": "code",
   "execution_count": 214,
   "id": "5db800ce-7fb5-43c6-b207-e244cbbc918b",
   "metadata": {},
   "outputs": [],
   "source": [
    "# Read the train and test image data from csv\n",
    "\n",
    "train_data = pd.read_csv(\"/Users/jayashreeshankar/Documents/GUVI/Final Project - sign language/sign_mnist_train.csv\")\n",
    "test_data = pd.read_csv(\"/Users/jayashreeshankar/Documents/GUVI/Final Project - sign language/sign_mnist_test.csv\")"
   ]
  },
  {
   "cell_type": "code",
   "execution_count": 215,
   "id": "67f7839a-a889-4f8f-b50d-6f117e53b076",
   "metadata": {},
   "outputs": [
    {
     "data": {
      "text/html": [
       "<div>\n",
       "<style scoped>\n",
       "    .dataframe tbody tr th:only-of-type {\n",
       "        vertical-align: middle;\n",
       "    }\n",
       "\n",
       "    .dataframe tbody tr th {\n",
       "        vertical-align: top;\n",
       "    }\n",
       "\n",
       "    .dataframe thead th {\n",
       "        text-align: right;\n",
       "    }\n",
       "</style>\n",
       "<table border=\"1\" class=\"dataframe\">\n",
       "  <thead>\n",
       "    <tr style=\"text-align: right;\">\n",
       "      <th></th>\n",
       "      <th>label</th>\n",
       "      <th>pixel1</th>\n",
       "      <th>pixel2</th>\n",
       "      <th>pixel3</th>\n",
       "      <th>pixel4</th>\n",
       "      <th>pixel5</th>\n",
       "      <th>pixel6</th>\n",
       "      <th>pixel7</th>\n",
       "      <th>pixel8</th>\n",
       "      <th>pixel9</th>\n",
       "      <th>...</th>\n",
       "      <th>pixel775</th>\n",
       "      <th>pixel776</th>\n",
       "      <th>pixel777</th>\n",
       "      <th>pixel778</th>\n",
       "      <th>pixel779</th>\n",
       "      <th>pixel780</th>\n",
       "      <th>pixel781</th>\n",
       "      <th>pixel782</th>\n",
       "      <th>pixel783</th>\n",
       "      <th>pixel784</th>\n",
       "    </tr>\n",
       "  </thead>\n",
       "  <tbody>\n",
       "    <tr>\n",
       "      <th>0</th>\n",
       "      <td>3</td>\n",
       "      <td>107</td>\n",
       "      <td>118</td>\n",
       "      <td>127</td>\n",
       "      <td>134</td>\n",
       "      <td>139</td>\n",
       "      <td>143</td>\n",
       "      <td>146</td>\n",
       "      <td>150</td>\n",
       "      <td>153</td>\n",
       "      <td>...</td>\n",
       "      <td>207</td>\n",
       "      <td>207</td>\n",
       "      <td>207</td>\n",
       "      <td>207</td>\n",
       "      <td>206</td>\n",
       "      <td>206</td>\n",
       "      <td>206</td>\n",
       "      <td>204</td>\n",
       "      <td>203</td>\n",
       "      <td>202</td>\n",
       "    </tr>\n",
       "    <tr>\n",
       "      <th>1</th>\n",
       "      <td>6</td>\n",
       "      <td>155</td>\n",
       "      <td>157</td>\n",
       "      <td>156</td>\n",
       "      <td>156</td>\n",
       "      <td>156</td>\n",
       "      <td>157</td>\n",
       "      <td>156</td>\n",
       "      <td>158</td>\n",
       "      <td>158</td>\n",
       "      <td>...</td>\n",
       "      <td>69</td>\n",
       "      <td>149</td>\n",
       "      <td>128</td>\n",
       "      <td>87</td>\n",
       "      <td>94</td>\n",
       "      <td>163</td>\n",
       "      <td>175</td>\n",
       "      <td>103</td>\n",
       "      <td>135</td>\n",
       "      <td>149</td>\n",
       "    </tr>\n",
       "    <tr>\n",
       "      <th>2</th>\n",
       "      <td>2</td>\n",
       "      <td>187</td>\n",
       "      <td>188</td>\n",
       "      <td>188</td>\n",
       "      <td>187</td>\n",
       "      <td>187</td>\n",
       "      <td>186</td>\n",
       "      <td>187</td>\n",
       "      <td>188</td>\n",
       "      <td>187</td>\n",
       "      <td>...</td>\n",
       "      <td>202</td>\n",
       "      <td>201</td>\n",
       "      <td>200</td>\n",
       "      <td>199</td>\n",
       "      <td>198</td>\n",
       "      <td>199</td>\n",
       "      <td>198</td>\n",
       "      <td>195</td>\n",
       "      <td>194</td>\n",
       "      <td>195</td>\n",
       "    </tr>\n",
       "    <tr>\n",
       "      <th>3</th>\n",
       "      <td>2</td>\n",
       "      <td>211</td>\n",
       "      <td>211</td>\n",
       "      <td>212</td>\n",
       "      <td>212</td>\n",
       "      <td>211</td>\n",
       "      <td>210</td>\n",
       "      <td>211</td>\n",
       "      <td>210</td>\n",
       "      <td>210</td>\n",
       "      <td>...</td>\n",
       "      <td>235</td>\n",
       "      <td>234</td>\n",
       "      <td>233</td>\n",
       "      <td>231</td>\n",
       "      <td>230</td>\n",
       "      <td>226</td>\n",
       "      <td>225</td>\n",
       "      <td>222</td>\n",
       "      <td>229</td>\n",
       "      <td>163</td>\n",
       "    </tr>\n",
       "    <tr>\n",
       "      <th>4</th>\n",
       "      <td>13</td>\n",
       "      <td>164</td>\n",
       "      <td>167</td>\n",
       "      <td>170</td>\n",
       "      <td>172</td>\n",
       "      <td>176</td>\n",
       "      <td>179</td>\n",
       "      <td>180</td>\n",
       "      <td>184</td>\n",
       "      <td>185</td>\n",
       "      <td>...</td>\n",
       "      <td>92</td>\n",
       "      <td>105</td>\n",
       "      <td>105</td>\n",
       "      <td>108</td>\n",
       "      <td>133</td>\n",
       "      <td>163</td>\n",
       "      <td>157</td>\n",
       "      <td>163</td>\n",
       "      <td>164</td>\n",
       "      <td>179</td>\n",
       "    </tr>\n",
       "    <tr>\n",
       "      <th>...</th>\n",
       "      <td>...</td>\n",
       "      <td>...</td>\n",
       "      <td>...</td>\n",
       "      <td>...</td>\n",
       "      <td>...</td>\n",
       "      <td>...</td>\n",
       "      <td>...</td>\n",
       "      <td>...</td>\n",
       "      <td>...</td>\n",
       "      <td>...</td>\n",
       "      <td>...</td>\n",
       "      <td>...</td>\n",
       "      <td>...</td>\n",
       "      <td>...</td>\n",
       "      <td>...</td>\n",
       "      <td>...</td>\n",
       "      <td>...</td>\n",
       "      <td>...</td>\n",
       "      <td>...</td>\n",
       "      <td>...</td>\n",
       "      <td>...</td>\n",
       "    </tr>\n",
       "    <tr>\n",
       "      <th>27450</th>\n",
       "      <td>13</td>\n",
       "      <td>189</td>\n",
       "      <td>189</td>\n",
       "      <td>190</td>\n",
       "      <td>190</td>\n",
       "      <td>192</td>\n",
       "      <td>193</td>\n",
       "      <td>193</td>\n",
       "      <td>193</td>\n",
       "      <td>193</td>\n",
       "      <td>...</td>\n",
       "      <td>132</td>\n",
       "      <td>165</td>\n",
       "      <td>99</td>\n",
       "      <td>77</td>\n",
       "      <td>52</td>\n",
       "      <td>200</td>\n",
       "      <td>234</td>\n",
       "      <td>200</td>\n",
       "      <td>222</td>\n",
       "      <td>225</td>\n",
       "    </tr>\n",
       "    <tr>\n",
       "      <th>27451</th>\n",
       "      <td>23</td>\n",
       "      <td>151</td>\n",
       "      <td>154</td>\n",
       "      <td>157</td>\n",
       "      <td>158</td>\n",
       "      <td>160</td>\n",
       "      <td>161</td>\n",
       "      <td>163</td>\n",
       "      <td>164</td>\n",
       "      <td>166</td>\n",
       "      <td>...</td>\n",
       "      <td>198</td>\n",
       "      <td>198</td>\n",
       "      <td>198</td>\n",
       "      <td>198</td>\n",
       "      <td>198</td>\n",
       "      <td>196</td>\n",
       "      <td>195</td>\n",
       "      <td>195</td>\n",
       "      <td>195</td>\n",
       "      <td>194</td>\n",
       "    </tr>\n",
       "    <tr>\n",
       "      <th>27452</th>\n",
       "      <td>18</td>\n",
       "      <td>174</td>\n",
       "      <td>174</td>\n",
       "      <td>174</td>\n",
       "      <td>174</td>\n",
       "      <td>174</td>\n",
       "      <td>175</td>\n",
       "      <td>175</td>\n",
       "      <td>174</td>\n",
       "      <td>173</td>\n",
       "      <td>...</td>\n",
       "      <td>121</td>\n",
       "      <td>196</td>\n",
       "      <td>209</td>\n",
       "      <td>208</td>\n",
       "      <td>206</td>\n",
       "      <td>204</td>\n",
       "      <td>203</td>\n",
       "      <td>202</td>\n",
       "      <td>200</td>\n",
       "      <td>200</td>\n",
       "    </tr>\n",
       "    <tr>\n",
       "      <th>27453</th>\n",
       "      <td>17</td>\n",
       "      <td>177</td>\n",
       "      <td>181</td>\n",
       "      <td>184</td>\n",
       "      <td>185</td>\n",
       "      <td>187</td>\n",
       "      <td>189</td>\n",
       "      <td>190</td>\n",
       "      <td>191</td>\n",
       "      <td>191</td>\n",
       "      <td>...</td>\n",
       "      <td>119</td>\n",
       "      <td>56</td>\n",
       "      <td>27</td>\n",
       "      <td>58</td>\n",
       "      <td>102</td>\n",
       "      <td>79</td>\n",
       "      <td>47</td>\n",
       "      <td>64</td>\n",
       "      <td>87</td>\n",
       "      <td>93</td>\n",
       "    </tr>\n",
       "    <tr>\n",
       "      <th>27454</th>\n",
       "      <td>23</td>\n",
       "      <td>179</td>\n",
       "      <td>180</td>\n",
       "      <td>180</td>\n",
       "      <td>180</td>\n",
       "      <td>182</td>\n",
       "      <td>181</td>\n",
       "      <td>182</td>\n",
       "      <td>183</td>\n",
       "      <td>182</td>\n",
       "      <td>...</td>\n",
       "      <td>108</td>\n",
       "      <td>132</td>\n",
       "      <td>170</td>\n",
       "      <td>194</td>\n",
       "      <td>214</td>\n",
       "      <td>203</td>\n",
       "      <td>197</td>\n",
       "      <td>205</td>\n",
       "      <td>209</td>\n",
       "      <td>215</td>\n",
       "    </tr>\n",
       "  </tbody>\n",
       "</table>\n",
       "<p>27455 rows × 785 columns</p>\n",
       "</div>"
      ],
      "text/plain": [
       "       label  pixel1  pixel2  pixel3  pixel4  pixel5  pixel6  pixel7  pixel8  \\\n",
       "0          3     107     118     127     134     139     143     146     150   \n",
       "1          6     155     157     156     156     156     157     156     158   \n",
       "2          2     187     188     188     187     187     186     187     188   \n",
       "3          2     211     211     212     212     211     210     211     210   \n",
       "4         13     164     167     170     172     176     179     180     184   \n",
       "...      ...     ...     ...     ...     ...     ...     ...     ...     ...   \n",
       "27450     13     189     189     190     190     192     193     193     193   \n",
       "27451     23     151     154     157     158     160     161     163     164   \n",
       "27452     18     174     174     174     174     174     175     175     174   \n",
       "27453     17     177     181     184     185     187     189     190     191   \n",
       "27454     23     179     180     180     180     182     181     182     183   \n",
       "\n",
       "       pixel9  ...  pixel775  pixel776  pixel777  pixel778  pixel779  \\\n",
       "0         153  ...       207       207       207       207       206   \n",
       "1         158  ...        69       149       128        87        94   \n",
       "2         187  ...       202       201       200       199       198   \n",
       "3         210  ...       235       234       233       231       230   \n",
       "4         185  ...        92       105       105       108       133   \n",
       "...       ...  ...       ...       ...       ...       ...       ...   \n",
       "27450     193  ...       132       165        99        77        52   \n",
       "27451     166  ...       198       198       198       198       198   \n",
       "27452     173  ...       121       196       209       208       206   \n",
       "27453     191  ...       119        56        27        58       102   \n",
       "27454     182  ...       108       132       170       194       214   \n",
       "\n",
       "       pixel780  pixel781  pixel782  pixel783  pixel784  \n",
       "0           206       206       204       203       202  \n",
       "1           163       175       103       135       149  \n",
       "2           199       198       195       194       195  \n",
       "3           226       225       222       229       163  \n",
       "4           163       157       163       164       179  \n",
       "...         ...       ...       ...       ...       ...  \n",
       "27450       200       234       200       222       225  \n",
       "27451       196       195       195       195       194  \n",
       "27452       204       203       202       200       200  \n",
       "27453        79        47        64        87        93  \n",
       "27454       203       197       205       209       215  \n",
       "\n",
       "[27455 rows x 785 columns]"
      ]
     },
     "execution_count": 215,
     "metadata": {},
     "output_type": "execute_result"
    }
   ],
   "source": [
    "train_data"
   ]
  },
  {
   "cell_type": "code",
   "execution_count": 216,
   "id": "81ae7ac7-f2ba-4d9e-82de-467c43c884d4",
   "metadata": {},
   "outputs": [],
   "source": [
    "# Separate labels from pixel data and the first column is column name for train data\n",
    "\n",
    "train_pixel_values = train_data.iloc[:, 1:].values\n",
    "train_labels = train_data.iloc[:, 0].values"
   ]
  },
  {
   "cell_type": "code",
   "execution_count": 217,
   "id": "dd99f53f-c7ff-42b6-942e-fe5d60d47a20",
   "metadata": {},
   "outputs": [
    {
     "data": {
      "image/png": "[encoded data removed]",
      "text/plain": [
       "<Figure size 640x480 with 1 Axes>"
      ]
     },
     "metadata": {},
     "output_type": "display_data"
    }
   ],
   "source": [
    "train_label_df = pd.DataFrame(train_labels, columns=['Training Labels'])\n",
    "\n",
    "# Plot histogram\n",
    "# train_label_df.hist()\n",
    "sns.histplot(train_label_df, kde=True, bins=25)\n",
    "plt.title(\"Distribution of the alphabet\")\n",
    "plt.show()"
   ]
  },
  {
   "cell_type": "code",
   "execution_count": 218,
   "id": "519c549e-1857-4a1c-8b5d-cf09586fb7e4",
   "metadata": {},
   "outputs": [
    {
     "data": {
      "image/png": "[encoded data removed]",
      "text/plain": [
       "<Figure size 1000x500 with 1 Axes>"
      ]
     },
     "metadata": {},
     "output_type": "display_data"
    }
   ],
   "source": [
    "# Count plot\n",
    "\n",
    "plt.figure(figsize=(10,5))\n",
    "ax = sns.countplot(x=train_label_df['Training Labels'])\n",
    "\n",
    "# Add values on top of each bar\n",
    "for p in ax.patches:\n",
    "    # Get the height of the bar\n",
    "    height = p.get_height()\n",
    "    # Get the x-coordinate of the bar\n",
    "    x = p.get_x() + p.get_width() / 2\n",
    "    # Add the text annotation\n",
    "    ax.text(x, height, f'{int(height)}', ha='center', va='bottom')\n",
    "plt.title('Value counts of Alphabets')\n",
    "\n",
    "plt.show()"
   ]
  },
  {
   "cell_type": "code",
   "execution_count": 219,
   "id": "44ef98f2-0e0c-4ad6-89f9-4cad9094675f",
   "metadata": {},
   "outputs": [
    {
     "data": {
      "text/plain": [
       "array([107, 118, 127, 134, 139, 143, 146, 150, 153, 156, 158, 160, 163,\n",
       "       165, 159, 166, 168, 170, 170, 171, 171, 171, 172, 171, 171, 170,\n",
       "       170, 169, 111, 121, 129, 135, 141, 144, 148, 151, 154, 157, 160,\n",
       "       163, 164, 170, 119, 152, 171, 171, 170, 171, 172, 172, 172, 172,\n",
       "       172, 171, 171, 170, 113, 123, 131, 137, 142, 145, 150, 152, 155,\n",
       "       158, 161, 163, 164, 172, 105, 142, 170, 171, 171, 171, 172, 172,\n",
       "       173, 173, 172, 171, 171, 171, 116, 125, 133, 139, 143, 146, 151,\n",
       "       153, 156, 159, 162, 163, 167, 167,  95, 144, 171, 172, 172, 172,\n",
       "       172, 172, 173, 173, 173, 172, 172, 171, 117, 126, 134, 140, 145,\n",
       "       149, 153, 156, 158, 161, 163, 164, 175, 156,  87, 154, 172, 173,\n",
       "       173, 173, 173, 173, 174, 174, 174, 173, 172, 172, 119, 128, 136,\n",
       "       142, 146, 150, 153, 156, 159, 163, 165, 164, 184, 148,  89, 164,\n",
       "       172, 174, 174, 174, 174, 175, 175, 174, 175, 174, 173, 173, 122,\n",
       "       130, 138, 143, 147, 150, 154, 158, 162, 165, 166, 172, 181, 128,\n",
       "        94, 170, 173, 175, 174, 175, 176, 177, 177, 177, 177, 175, 175,\n",
       "       174, 122, 132, 139, 145, 149, 152, 156, 160, 163, 165, 166, 181,\n",
       "       172, 103, 113, 175, 176, 178, 178, 179, 179, 179, 179, 178, 179,\n",
       "       177, 175, 174, 125, 134, 141, 147, 150, 153, 157, 161, 164, 167,\n",
       "       168, 184, 179, 116, 126, 165, 176, 179, 180, 180, 181, 180, 180,\n",
       "       180, 179, 178, 177, 176, 128, 135, 142, 148, 152, 154, 158, 162,\n",
       "       165, 168, 170, 187, 180, 156, 161, 124, 143, 179, 178, 178, 181,\n",
       "       182, 181, 180, 181, 180, 179, 179, 129, 136, 144, 150, 153, 155,\n",
       "       159, 163, 166, 169, 172, 187, 184, 153, 102, 117, 110, 175, 169,\n",
       "       154, 182, 183, 183, 182, 182, 181, 181, 179, 131, 138, 145, 150,\n",
       "       155, 157, 161, 165, 168, 174, 190, 189, 175, 146,  94,  97, 113,\n",
       "       151, 158, 129, 184, 184, 184, 184, 183, 183, 182, 180, 131, 139,\n",
       "       146, 151, 155, 159, 163, 167, 175, 182, 179, 171, 159, 114, 102,\n",
       "        89, 121, 136, 136,  96, 172, 186, 186, 185, 185, 184, 182, 181,\n",
       "       131, 140, 147, 154, 157, 160, 164, 179, 186, 191, 187, 180, 157,\n",
       "       100,  88,  84, 108, 111, 126,  90, 120, 186, 187, 187, 186, 185,\n",
       "       184, 182, 133, 141, 149, 155, 158, 160, 174, 201, 189, 165, 151,\n",
       "       143, 146, 120,  87,  78,  87,  76, 108,  98,  96, 181, 188, 187,\n",
       "       186, 186, 185, 183, 133, 141, 150, 156, 160, 161, 179, 197, 174,\n",
       "       135,  99,  72,  95, 134,  97,  72,  74,  68, 116, 105, 108, 187,\n",
       "       189, 187, 187, 186, 186, 185, 134, 143, 151, 156, 161, 163, 179,\n",
       "       194, 156, 110,  74,  42,  52, 139,  94,  67,  75,  75, 118, 106,\n",
       "       129, 189, 191, 190, 188, 188, 187, 186, 135, 144, 152, 158, 163,\n",
       "       163, 177, 193, 161, 122,  84,  43,  71, 134,  81,  57,  71,  88,\n",
       "       112,  98, 157, 193, 193, 192, 190, 190, 189, 188, 136, 144, 152,\n",
       "       158, 162, 163, 176, 192, 164, 128,  98,  62,  60, 100,  71,  76,\n",
       "        96, 101, 105,  95, 174, 195, 194, 194, 194, 193, 191, 190, 137,\n",
       "       145, 152, 159, 164, 165, 178, 191, 164, 135, 113,  82,  59,  87,\n",
       "        98, 111, 120, 108,  97, 108, 190, 196, 195, 195, 194, 193, 193,\n",
       "       192, 139, 146, 154, 160, 164, 165, 175, 186, 163, 139, 112,  85,\n",
       "        67, 102, 126, 133, 126, 105, 104, 176, 197, 198, 197, 196, 195,\n",
       "       195, 194, 193, 138, 147, 155, 161, 165, 167, 172, 186, 163, 137,\n",
       "       107,  87,  76, 106, 122, 125, 117,  96, 156, 199, 199, 200, 198,\n",
       "       196, 196, 195, 195, 194, 139, 148, 156, 163, 166, 168, 172, 180,\n",
       "       158, 131, 108,  99,  86, 108, 118, 116, 103, 107, 191, 202, 201,\n",
       "       200, 200, 200, 199, 197, 198, 196, 140, 149, 157, 164, 168, 167,\n",
       "       177, 178, 155, 131, 118, 105,  87, 100, 106, 100,  96, 164, 202,\n",
       "       202, 202, 202, 202, 201, 200, 199, 199, 198, 140, 150, 157, 165,\n",
       "       167, 170, 181, 175, 152, 130, 115,  98,  82,  85,  90,  99, 165,\n",
       "       202, 203, 204, 203, 203, 202, 202, 201, 201, 200, 200, 142, 150,\n",
       "       159, 165, 170, 191, 173, 157, 144, 119,  97,  84,  79,  79,  91,\n",
       "       172, 202, 203, 203, 205, 204, 204, 204, 203, 202, 202, 201, 200,\n",
       "       142, 151, 160, 165, 188, 190, 187, 150, 119, 109,  85,  79,  79,\n",
       "        78, 137, 203, 205, 206, 206, 207, 207, 206, 206, 204, 205, 204,\n",
       "       203, 202, 142, 151, 160, 172, 196, 188, 188, 190, 135,  96,  86,\n",
       "        77,  77,  79, 176, 205, 207, 207, 207, 207, 207, 207, 206, 206,\n",
       "       206, 204, 203, 202])"
      ]
     },
     "execution_count": 219,
     "metadata": {},
     "output_type": "execute_result"
    }
   ],
   "source": [
    "train_pixel_values[0]"
   ]
  },
  {
   "cell_type": "code",
   "execution_count": 220,
   "id": "b6d112c2-2f27-45df-9545-59052c2d9c1c",
   "metadata": {},
   "outputs": [
    {
     "data": {
      "text/plain": [
       "0     1126\n",
       "1     1010\n",
       "2     1144\n",
       "3     1196\n",
       "4      957\n",
       "5     1204\n",
       "6     1090\n",
       "7     1013\n",
       "8     1162\n",
       "10    1114\n",
       "11    1241\n",
       "12    1055\n",
       "13    1151\n",
       "14    1196\n",
       "15    1088\n",
       "16    1279\n",
       "17    1294\n",
       "18    1199\n",
       "19    1186\n",
       "20    1161\n",
       "21    1082\n",
       "22    1225\n",
       "23    1164\n",
       "24    1118\n",
       "dtype: int64"
      ]
     },
     "execution_count": 220,
     "metadata": {},
     "output_type": "execute_result"
    }
   ],
   "source": [
    "# Calculate unique values and their counts\n",
    "unique_values, counts = np.unique(train_labels, return_counts=True)\n",
    "\n",
    "# Create a pandas Series for value counts (optional, for convenience)\n",
    "value_counts = pd.Series(counts, index=unique_values).sort_index()\n",
    "value_counts"
   ]
  },
  {
   "cell_type": "code",
   "execution_count": 182,
   "id": "21243031-4650-4576-8c01-e34b5f5eb5e4",
   "metadata": {},
   "outputs": [],
   "source": [
    "# Iterate through each row in pixel_values for train data\n",
    "\n",
    "train_reshaped_images = []\n",
    "for pixel_value in train_pixel_values:\n",
    "    # Reshape the flattened image into 28x28\n",
    "    image = np.array(pixel_value).reshape(28, 28)\n",
    "    train_reshaped_images.append(image)\n",
    "\n",
    "# Convert the list of reshaped images into a numpy array\n",
    "train_reshaped_images = np.array(train_reshaped_images).astype('int64')"
   ]
  },
  {
   "cell_type": "code",
   "execution_count": 183,
   "id": "24630464-fa96-4a0d-949e-67daf9601ae9",
   "metadata": {},
   "outputs": [
    {
     "data": {
      "text/plain": [
       "array([[[107, 118, 127, ..., 170, 170, 169],\n",
       "        [111, 121, 129, ..., 171, 171, 170],\n",
       "        [113, 123, 131, ..., 171, 171, 171],\n",
       "        ...,\n",
       "        [142, 150, 159, ..., 202, 201, 200],\n",
       "        [142, 151, 160, ..., 204, 203, 202],\n",
       "        [142, 151, 160, ..., 204, 203, 202]],\n",
       "\n",
       "       [[155, 157, 156, ..., 138,  92, 108],\n",
       "        [158, 159, 159, ..., 142, 116, 143],\n",
       "        [161, 161, 161, ..., 147, 125, 140],\n",
       "        ...,\n",
       "        [162, 159, 145, ...,  91, 101,  94],\n",
       "        [153, 139, 115, ...,  97,  95, 120],\n",
       "        [135, 116,  95, ..., 103, 135, 149]],\n",
       "\n",
       "       [[187, 188, 188, ...,  66,  77,  83],\n",
       "        [188, 189, 189, ...,  73,  73,  71],\n",
       "        [190, 190, 190, ...,  74,  68,  61],\n",
       "        ...,\n",
       "        [212, 198, 175, ..., 195, 193, 192],\n",
       "        [202, 179, 152, ..., 195, 194, 193],\n",
       "        [198, 166, 132, ..., 195, 194, 195]],\n",
       "\n",
       "       ...,\n",
       "\n",
       "       [[174, 174, 174, ..., 160, 158, 156],\n",
       "        [178, 178, 177, ..., 162, 160, 158],\n",
       "        [181, 180, 180, ..., 164, 162, 161],\n",
       "        ...,\n",
       "        [215, 216, 216, ..., 201, 199, 198],\n",
       "        [216, 217, 217, ..., 201, 200, 198],\n",
       "        [217, 217, 217, ..., 202, 200, 200]],\n",
       "\n",
       "       [[177, 181, 184, ..., 181, 179, 177],\n",
       "        [179, 182, 185, ..., 183, 181, 179],\n",
       "        [181, 184, 187, ..., 185, 183, 182],\n",
       "        ...,\n",
       "        [129, 132, 134, ...,  94, 102,  70],\n",
       "        [131, 134, 132, ...,  78, 100,  86],\n",
       "        [136, 135, 135, ...,  64,  87,  93]],\n",
       "\n",
       "       [[179, 180, 180, ...,  47,  30,  39],\n",
       "        [180, 182, 183, ...,  79,  24,  34],\n",
       "        [184, 184, 185, ..., 115,  25,  29],\n",
       "        ...,\n",
       "        [ 90,  94,  76, ..., 109, 150, 172],\n",
       "        [ 94,  93,  89, ..., 202, 213, 215],\n",
       "        [ 96,  88, 109, ..., 205, 209, 215]]])"
      ]
     },
     "execution_count": 183,
     "metadata": {},
     "output_type": "execute_result"
    }
   ],
   "source": [
    "train_reshaped_images"
   ]
  },
  {
   "cell_type": "code",
   "execution_count": 184,
   "id": "be1fbb34-b00a-4345-9454-6ca6072077c9",
   "metadata": {
    "scrolled": true
   },
   "outputs": [],
   "source": [
    "# Separate labels from pixel data and the first column is column name for test data\n",
    "\n",
    "test_pixel_values = test_data.iloc[:, 1:].values\n",
    "test_labels = test_data.iloc[:, 0].values"
   ]
  },
  {
   "cell_type": "code",
   "execution_count": 185,
   "id": "33bf2699-6535-44a6-9a79-eb2330e5ea88",
   "metadata": {},
   "outputs": [],
   "source": [
    "# Iterate through each row in pixel_values for test data\n",
    "test_reshaped_images = []\n",
    "for pixel_value in test_pixel_values:\n",
    "    # Reshape the flattened image into 28x28\n",
    "    image = np.array(pixel_value).reshape(28, 28)\n",
    "    test_reshaped_images.append(image)\n",
    "\n",
    "# Convert the list of reshaped images into a numpy array\n",
    "test_reshaped_images = np.array(test_reshaped_images).astype('int64')"
   ]
  },
  {
   "cell_type": "code",
   "execution_count": 186,
   "id": "d1137bba-4b01-43d9-9a5b-fcd6aa377345",
   "metadata": {},
   "outputs": [
    {
     "data": {
      "text/plain": [
       "(7172,)"
      ]
     },
     "execution_count": 186,
     "metadata": {},
     "output_type": "execute_result"
    }
   ],
   "source": [
    "test_labels.shape"
   ]
  },
  {
   "cell_type": "code",
   "execution_count": 187,
   "id": "11ea38e7-57a1-465e-b6bb-b8fbf948b904",
   "metadata": {},
   "outputs": [
    {
     "data": {
      "text/plain": [
       "(27455,)"
      ]
     },
     "execution_count": 187,
     "metadata": {},
     "output_type": "execute_result"
    }
   ],
   "source": [
    "train_labels.shape"
   ]
  },
  {
   "cell_type": "code",
   "execution_count": 188,
   "id": "f157367e-7c13-499b-a642-f6444cb160af",
   "metadata": {},
   "outputs": [
    {
     "data": {
      "text/plain": [
       "(28, 28)"
      ]
     },
     "execution_count": 188,
     "metadata": {},
     "output_type": "execute_result"
    }
   ],
   "source": [
    "test_reshaped_images[0].shape"
   ]
  },
  {
   "cell_type": "code",
   "execution_count": 189,
   "id": "301de140-de65-4d80-8aa3-53b05a0cc2fe",
   "metadata": {},
   "outputs": [
    {
     "data": {
      "text/plain": [
       "<matplotlib.image.AxesImage at 0x3e6a0c890>"
      ]
     },
     "execution_count": 189,
     "metadata": {},
     "output_type": "execute_result"
    },
    {
     "data": {
      "image/png": "[encoded data removed]",
      "text/plain": [
       "<Figure size 640x480 with 1 Axes>"
      ]
     },
     "metadata": {},
     "output_type": "display_data"
    }
   ],
   "source": [
    "plt.imshow(test_reshaped_images[0], cmap='gray') # default cmap color pattern is virdis"
   ]
  },
  {
   "cell_type": "code",
   "execution_count": 190,
   "id": "7b4c21bf-0fdc-44e2-90d2-67c1231c0dc0",
   "metadata": {},
   "outputs": [
    {
     "name": "stdout",
     "output_type": "stream",
     "text": [
      "[ 0  1  2  3  4  5  6  7  8 10 11 12 13 14 15 16 17 18 19 20 21 22 23 24]\n"
     ]
    },
    {
     "data": {
      "text/plain": [
       "(27455, 25)"
      ]
     },
     "execution_count": 190,
     "metadata": {},
     "output_type": "execute_result"
    }
   ],
   "source": [
    "from tensorflow.keras.utils import to_categorical\n",
    "\n",
    "print(np.unique(train_labels))\n",
    "train_label_catego = to_categorical(train_labels)\n",
    "train_label_catego.shape"
   ]
  },
  {
   "cell_type": "code",
   "execution_count": 191,
   "id": "68ee4f24-a24a-4b2c-ac08-e2fac3e062b5",
   "metadata": {},
   "outputs": [
    {
     "name": "stdout",
     "output_type": "stream",
     "text": [
      "[ 0  1  2  3  4  5  6  7  8 10 11 12 13 14 15 16 17 18 19 20 21 22 23 24]\n"
     ]
    },
    {
     "data": {
      "text/plain": [
       "(7172, 25)"
      ]
     },
     "execution_count": 191,
     "metadata": {},
     "output_type": "execute_result"
    }
   ],
   "source": [
    "print(np.unique(test_labels))\n",
    "test_label_catego = to_categorical(test_labels,num_classes=25)\n",
    "test_label_catego.shape"
   ]
  },
  {
   "cell_type": "code",
   "execution_count": 192,
   "id": "6fa01619-0646-4829-bd0d-7b01f296d9f7",
   "metadata": {},
   "outputs": [
    {
     "data": {
      "text/plain": [
       "(27455,)"
      ]
     },
     "execution_count": 192,
     "metadata": {},
     "output_type": "execute_result"
    }
   ],
   "source": [
    "train_labels.shape"
   ]
  },
  {
   "cell_type": "code",
   "execution_count": 193,
   "id": "21022c96-ac22-46e9-a9ba-d1e9d8d09b3c",
   "metadata": {},
   "outputs": [
    {
     "data": {
      "text/plain": [
       "(7172,)"
      ]
     },
     "execution_count": 193,
     "metadata": {},
     "output_type": "execute_result"
    }
   ],
   "source": [
    "test_labels.shape"
   ]
  },
  {
   "cell_type": "code",
   "execution_count": 194,
   "id": "8a3f5726-e164-4bcb-b49e-f3e4c1272fb8",
   "metadata": {},
   "outputs": [
    {
     "data": {
      "text/plain": [
       "42"
      ]
     },
     "execution_count": 194,
     "metadata": {},
     "output_type": "execute_result"
    }
   ],
   "source": [
    "train_reshaped_images[0].min()"
   ]
  },
  {
   "cell_type": "code",
   "execution_count": 195,
   "id": "fa0074f1-f37e-4103-8409-a84cbd8a97e2",
   "metadata": {},
   "outputs": [
    {
     "data": {
      "text/plain": [
       "207"
      ]
     },
     "execution_count": 195,
     "metadata": {},
     "output_type": "execute_result"
    }
   ],
   "source": [
    "train_reshaped_images[0].max()"
   ]
  },
  {
   "cell_type": "code",
   "execution_count": 196,
   "id": "b47e3c17-1c62-4632-bffb-971511480714",
   "metadata": {},
   "outputs": [],
   "source": [
    "scaled_train_images = train_reshaped_images/255\n",
    "scaled_test_images = test_reshaped_images/255"
   ]
  },
  {
   "cell_type": "code",
   "execution_count": 197,
   "id": "2dc2db6b-bbaa-469c-b7fb-fecee09db584",
   "metadata": {},
   "outputs": [
    {
     "data": {
      "text/plain": [
       "<matplotlib.image.AxesImage at 0x388e23890>"
      ]
     },
     "execution_count": 197,
     "metadata": {},
     "output_type": "execute_result"
    },
    {
     "data": {
      "image/png": "[encoded data removed]",
      "text/plain": [
       "<Figure size 640x480 with 1 Axes>"
      ]
     },
     "metadata": {},
     "output_type": "display_data"
    }
   ],
   "source": [
    "plt.imshow(scaled_train_images[0], cmap='gray')"
   ]
  },
  {
   "cell_type": "code",
   "execution_count": null,
   "id": "ae27fedb-481c-47e9-82ff-13c280359c84",
   "metadata": {},
   "outputs": [],
   "source": []
  },
  {
   "cell_type": "code",
   "execution_count": 81,
   "id": "276f3de7-f512-4e3a-b773-56f5e96e3246",
   "metadata": {},
   "outputs": [
    {
     "data": {
      "text/plain": [
       "(27455, 28, 28)"
      ]
     },
     "execution_count": 81,
     "metadata": {},
     "output_type": "execute_result"
    }
   ],
   "source": [
    "scaled_train_images.shape"
   ]
  },
  {
   "cell_type": "code",
   "execution_count": 86,
   "id": "9550aa3a-6cab-423b-9081-27eb4bf2be93",
   "metadata": {},
   "outputs": [
    {
     "data": {
      "text/plain": [
       "(7172, 28, 28)"
      ]
     },
     "execution_count": 86,
     "metadata": {},
     "output_type": "execute_result"
    }
   ],
   "source": [
    "scaled_test_images.shape"
   ]
  },
  {
   "cell_type": "code",
   "execution_count": 87,
   "id": "b2f20d27-dd4e-4681-8323-2a2aa12e40c8",
   "metadata": {},
   "outputs": [],
   "source": [
    "# Batch size, width, height and color_channel\n",
    "\n",
    "x_train = scaled_train_images.reshape(27455,28,28,1)\n",
    "x_test = scaled_test_images.reshape(7172,28,28,1)"
   ]
  },
  {
   "cell_type": "code",
   "execution_count": 89,
   "id": "5d7a7ffa-a969-4f86-83e9-f7486138372c",
   "metadata": {},
   "outputs": [],
   "source": [
    "from tensorflow.keras.models import Sequential\n",
    "from tensorflow.keras.layers import Dense,Conv2D,MaxPool2D,Flatten"
   ]
  },
  {
   "cell_type": "code",
   "execution_count": 93,
   "id": "13ea4245-f177-4812-ab2a-937af4521c0e",
   "metadata": {},
   "outputs": [],
   "source": [
    "model = Sequential()\n",
    "model.add(Conv2D(filters=32,kernel_size=(4,4),input_shape=(28,28,1),activation='relu'))\n",
    "model.add(MaxPool2D(pool_size=(2,2)))\n",
    "\n",
    "# Flatten the input\n",
    "model.add(Flatten())\n",
    "model.add(Dense(128,activation='relu'))\n",
    "\n",
    "# Output layer, activation is softmax as it is multi-classification problem, 25 neurons means 25 labels\n",
    "model.add(Dense(25,activation='softmax'))\n",
    "\n",
    "# Compile the model\n",
    "model.compile(loss='categorical_crossentropy', optimizer='adam', metrics=['accuracy'])"
   ]
  },
  {
   "cell_type": "code",
   "execution_count": 96,
   "id": "79fdfdaa-b8ac-4ca8-bbab-f553dde54a20",
   "metadata": {},
   "outputs": [
    {
     "name": "stdout",
     "output_type": "stream",
     "text": [
      "Epoch 1/10\n",
      "\u001b[1m858/858\u001b[0m \u001b[32m━━━━━━━━━━━━━━━━━━━━\u001b[0m\u001b[37m\u001b[0m \u001b[1m3s\u001b[0m 3ms/step - accuracy: 0.4907 - loss: 1.8489 - val_accuracy: 0.8090 - val_loss: 0.6100\n",
      "Epoch 2/10\n",
      "\u001b[1m858/858\u001b[0m \u001b[32m━━━━━━━━━━━━━━━━━━━━\u001b[0m\u001b[37m\u001b[0m \u001b[1m3s\u001b[0m 3ms/step - accuracy: 0.9752 - loss: 0.1494 - val_accuracy: 0.8516 - val_loss: 0.5594\n",
      "Epoch 3/10\n",
      "\u001b[1m858/858\u001b[0m \u001b[32m━━━━━━━━━━━━━━━━━━━━\u001b[0m\u001b[37m\u001b[0m \u001b[1m3s\u001b[0m 3ms/step - accuracy: 0.9997 - loss: 0.0271 - val_accuracy: 0.8511 - val_loss: 0.6348\n"
     ]
    },
    {
     "data": {
      "text/plain": [
       "<keras.src.callbacks.history.History at 0x17c059760>"
      ]
     },
     "execution_count": 96,
     "metadata": {},
     "output_type": "execute_result"
    }
   ],
   "source": [
    "from tensorflow.keras.callbacks import EarlyStopping\n",
    "\n",
    "early_stop = EarlyStopping(monitor='val_loss',patience=1)\n",
    "model.fit(x_train, train_label_catego,epochs=10,validation_data=(x_test, test_label_catego),callbacks=[early_stop])"
   ]
  },
  {
   "cell_type": "code",
   "execution_count": 97,
   "id": "c4bc59d4-d310-43de-b8c8-b2f7140be0bb",
   "metadata": {},
   "outputs": [
    {
     "data": {
      "text/html": [
       "<div>\n",
       "<style scoped>\n",
       "    .dataframe tbody tr th:only-of-type {\n",
       "        vertical-align: middle;\n",
       "    }\n",
       "\n",
       "    .dataframe tbody tr th {\n",
       "        vertical-align: top;\n",
       "    }\n",
       "\n",
       "    .dataframe thead th {\n",
       "        text-align: right;\n",
       "    }\n",
       "</style>\n",
       "<table border=\"1\" class=\"dataframe\">\n",
       "  <thead>\n",
       "    <tr style=\"text-align: right;\">\n",
       "      <th></th>\n",
       "      <th>accuracy</th>\n",
       "      <th>loss</th>\n",
       "      <th>val_accuracy</th>\n",
       "      <th>val_loss</th>\n",
       "    </tr>\n",
       "  </thead>\n",
       "  <tbody>\n",
       "    <tr>\n",
       "      <th>0</th>\n",
       "      <td>0.725915</td>\n",
       "      <td>1.021820</td>\n",
       "      <td>0.808979</td>\n",
       "      <td>0.609999</td>\n",
       "    </tr>\n",
       "    <tr>\n",
       "      <th>1</th>\n",
       "      <td>0.986560</td>\n",
       "      <td>0.101730</td>\n",
       "      <td>0.851645</td>\n",
       "      <td>0.559400</td>\n",
       "    </tr>\n",
       "    <tr>\n",
       "      <th>2</th>\n",
       "      <td>0.999818</td>\n",
       "      <td>0.021216</td>\n",
       "      <td>0.851088</td>\n",
       "      <td>0.634792</td>\n",
       "    </tr>\n",
       "  </tbody>\n",
       "</table>\n",
       "</div>"
      ],
      "text/plain": [
       "   accuracy      loss  val_accuracy  val_loss\n",
       "0  0.725915  1.021820      0.808979  0.609999\n",
       "1  0.986560  0.101730      0.851645  0.559400\n",
       "2  0.999818  0.021216      0.851088  0.634792"
      ]
     },
     "execution_count": 97,
     "metadata": {},
     "output_type": "execute_result"
    }
   ],
   "source": [
    "metrics = pd.DataFrame(model.history.history)\n",
    "metrics"
   ]
  },
  {
   "cell_type": "code",
   "execution_count": 98,
   "id": "760ff285-92fd-4fad-8772-1c030d866deb",
   "metadata": {},
   "outputs": [
    {
     "data": {
      "text/plain": [
       "<Axes: >"
      ]
     },
     "execution_count": 98,
     "metadata": {},
     "output_type": "execute_result"
    },
    {
     "data": {
      "image/png": "[encoded data removed]",
      "text/plain": [
       "<Figure size 640x480 with 1 Axes>"
      ]
     },
     "metadata": {},
     "output_type": "display_data"
    }
   ],
   "source": [
    "metrics.plot()"
   ]
  },
  {
   "cell_type": "code",
   "execution_count": 99,
   "id": "23c80a17-c7a6-4bcf-946b-8359ca94e4a5",
   "metadata": {},
   "outputs": [
    {
     "data": {
      "text/plain": [
       "<Axes: >"
      ]
     },
     "execution_count": 99,
     "metadata": {},
     "output_type": "execute_result"
    },
    {
     "data": {
      "image/png": "[encoded data removed]",
      "text/plain": [
       "<Figure size 640x480 with 1 Axes>"
      ]
     },
     "metadata": {},
     "output_type": "display_data"
    }
   ],
   "source": [
    "metrics[['loss','val_loss']].plot()\n",
    "# As the val_loss is increasing, early stop happened"
   ]
  },
  {
   "cell_type": "code",
   "execution_count": 100,
   "id": "ccc96ce7-60dd-4ad9-8f23-86d95ebc5ff1",
   "metadata": {},
   "outputs": [
    {
     "data": {
      "text/plain": [
       "<Axes: >"
      ]
     },
     "execution_count": 100,
     "metadata": {},
     "output_type": "execute_result"
    },
    {
     "data": {
      "image/png": "[encoded data removed]",
      "text/plain": [
       "<Figure size 640x480 with 1 Axes>"
      ]
     },
     "metadata": {},
     "output_type": "display_data"
    }
   ],
   "source": [
    "metrics[['accuracy','val_accuracy']].plot()"
   ]
  },
  {
   "cell_type": "code",
   "execution_count": null,
   "id": "22c2cdca-b0fc-42ee-b52b-fdd837c97671",
   "metadata": {},
   "outputs": [],
   "source": []
  },
  {
   "cell_type": "code",
   "execution_count": 102,
   "id": "61506c2f-7ca2-43f1-a753-a810a47f7c38",
   "metadata": {},
   "outputs": [
    {
     "data": {
      "text/plain": [
       "[0.6347919702529907, 0.8510875701904297]"
      ]
     },
     "execution_count": 102,
     "metadata": {},
     "output_type": "execute_result"
    }
   ],
   "source": [
    "model.evaluate(x_test, test_label_catego, verbose=0)\n",
    "# verbose 0 means we dont see the actual data running through the model\n",
    "# it shows the loss and accuracy. Here the loss is very high"
   ]
  },
  {
   "cell_type": "code",
   "execution_count": 103,
   "id": "f0ed6a96-c837-42e7-b32d-f6ce3b76417d",
   "metadata": {},
   "outputs": [
    {
     "data": {
      "text/plain": [
       "['loss', 'compile_metrics']"
      ]
     },
     "execution_count": 103,
     "metadata": {},
     "output_type": "execute_result"
    }
   ],
   "source": [
    "model.metrics_names"
   ]
  },
  {
   "cell_type": "code",
   "execution_count": 109,
   "id": "3ae9937a-258c-44c9-9db5-94a351254f58",
   "metadata": {},
   "outputs": [
    {
     "name": "stdout",
     "output_type": "stream",
     "text": [
      "\u001b[1m225/225\u001b[0m \u001b[32m━━━━━━━━━━━━━━━━━━━━\u001b[0m\u001b[37m\u001b[0m \u001b[1m0s\u001b[0m 848us/step\n",
      "              precision    recall  f1-score   support\n",
      "\n",
      "           0       0.93      1.00      0.96       331\n",
      "           1       0.99      0.95      0.97       432\n",
      "           2       1.00      0.93      0.96       310\n",
      "           3       0.86      0.99      0.92       245\n",
      "           4       0.88      0.99      0.93       498\n",
      "           5       0.80      1.00      0.89       247\n",
      "           6       0.90      0.84      0.87       348\n",
      "           7       0.83      0.92      0.87       436\n",
      "           8       0.83      0.78      0.81       288\n",
      "          10       0.82      0.80      0.81       331\n",
      "          11       0.77      1.00      0.87       209\n",
      "          12       0.81      0.68      0.74       394\n",
      "          13       0.71      0.70      0.70       291\n",
      "          14       0.90      0.74      0.81       246\n",
      "          15       0.94      1.00      0.97       347\n",
      "          16       0.86      0.87      0.86       164\n",
      "          17       0.98      0.42      0.59       144\n",
      "          18       0.61      0.67      0.64       246\n",
      "          19       0.77      0.56      0.65       248\n",
      "          20       0.71      0.86      0.78       266\n",
      "          21       0.94      0.93      0.94       346\n",
      "          22       0.81      1.00      0.89       206\n",
      "          23       0.88      0.68      0.77       267\n",
      "          24       0.86      0.74      0.80       332\n",
      "\n",
      "    accuracy                           0.85      7172\n",
      "   macro avg       0.85      0.84      0.83      7172\n",
      "weighted avg       0.86      0.85      0.85      7172\n",
      "\n"
     ]
    }
   ],
   "source": [
    "from sklearn.metrics import classification_report,confusion_matrix\n",
    "\n",
    "predictions_prob = model.predict(x_test)\n",
    "predictions = np.argmax(predictions_prob, axis=1)\n",
    "print(classification_report(y_true=test_labels, y_pred=predictions))"
   ]
  },
  {
   "cell_type": "code",
   "execution_count": 110,
   "id": "19aeb517-6e2e-4cd7-8ffd-0f999a4fd719",
   "metadata": {},
   "outputs": [
    {
     "data": {
      "text/plain": [
       "array([[331,   0,   0,   0,   0,   0,   0,   0,   0,   0,   0,   0,   0,\n",
       "          0,   0,   0,   0,   0,   0,   0,   0,   0,   0,   0],\n",
       "       [  0, 411,   0,   0,   0,   0,   0,   0,   0,  21,   0,   0,   0,\n",
       "          0,   0,   0,   0,   0,   0,   0,   0,   0,   0,   0],\n",
       "       [  0,   0, 288,   0,   0,  21,   0,   0,   0,   0,   0,   0,   0,\n",
       "          0,   0,   0,   0,   0,   0,   0,   0,   0,   1,   0],\n",
       "       [  0,   0,   0, 243,   2,   0,   0,   0,   0,   0,   0,   0,   0,\n",
       "          0,   0,   0,   0,   0,   0,   0,   0,   0,   0,   0],\n",
       "       [  0,   0,   0,   0, 494,   0,   0,   0,   0,   0,   0,   0,   0,\n",
       "          0,   0,   0,   0,   4,   0,   0,   0,   0,   0,   0],\n",
       "       [  0,   0,   0,   0,   0, 247,   0,   0,   0,   0,   0,   0,   0,\n",
       "          0,   0,   0,   0,   0,   0,   0,   0,   0,   0,   0],\n",
       "       [  0,   0,   0,   0,   0,   0, 292,  25,   0,   0,   0,   0,   0,\n",
       "          0,   7,  22,   0,   0,   0,   0,   0,   0,   2,   0],\n",
       "       [  0,   0,   0,   0,   0,   0,  33, 403,   0,   0,   0,   0,   0,\n",
       "          0,   0,   0,   0,   0,   0,   0,   0,   0,   0,   0],\n",
       "       [  0,   0,   0,  21,   0,   0,   0,   0, 225,   0,   0,   0,   0,\n",
       "          0,   0,   1,   0,   0,   0,   0,   0,   0,   0,  41],\n",
       "       [  0,   3,   0,   0,   0,   0,   0,   0,   0, 265,   0,   0,   0,\n",
       "          0,   3,   0,   0,  21,   0,   7,   0,  32,   0,   0],\n",
       "       [  0,   0,   0,   0,   0,   0,   0,   0,   0,   0, 209,   0,   0,\n",
       "          0,   0,   0,   0,   0,   0,   0,   0,   0,   0,   0],\n",
       "       [  0,   0,   0,   0,  42,   0,   0,   0,   0,   0,   0, 268,  21,\n",
       "         21,   0,   0,   0,  42,   0,   0,   0,   0,   0,   0],\n",
       "       [ 25,   0,   0,  20,   0,   0,   0,   0,   0,   0,   0,  21, 203,\n",
       "          0,   0,   1,   0,   0,  21,   0,   0,   0,   0,   0],\n",
       "       [  0,   0,   0,   0,   0,  40,   1,   0,   0,   0,   0,   0,  21,\n",
       "        182,   0,   0,   0,   2,   0,   0,   0,   0,   0,   0],\n",
       "       [  0,   0,   0,   0,   0,   0,   0,   0,   0,   0,   0,   0,   0,\n",
       "          0, 347,   0,   0,   0,   0,   0,   0,   0,   0,   0],\n",
       "       [  0,   0,   0,   0,   0,   0,   0,   0,   0,   0,   0,  21,   0,\n",
       "          0,   0, 143,   0,   0,   0,   0,   0,   0,   0,   0],\n",
       "       [  0,   0,   0,   0,   0,   0,   0,   0,   0,   0,   0,   0,   0,\n",
       "          0,   0,   0,  61,   0,   0,  62,  21,   0,   0,   0],\n",
       "       [  0,   0,   0,   0,  21,   0,   0,   0,   0,   0,   0,  21,  40,\n",
       "          0,   0,   0,   0, 164,   0,   0,   0,   0,   0,   0],\n",
       "       [  0,   0,   0,   0,   0,   0,   0,  60,   2,   0,  20,   0,   0,\n",
       "          0,   0,   0,   0,   0, 140,   5,   0,   0,  21,   0],\n",
       "       [  0,   0,   0,   0,   0,   0,   0,   0,   0,  36,   0,   0,   0,\n",
       "          0,   0,   0,   0,   0,   0, 230,   0,   0,   0,   0],\n",
       "       [  0,   0,   0,   0,   0,   0,   0,   0,   0,   0,   0,   0,   0,\n",
       "          0,   1,   0,   1,   0,   0,  21, 323,   0,   0,   0],\n",
       "       [  0,   0,   0,   0,   0,   0,   0,   0,   0,   0,   0,   0,   0,\n",
       "          0,   0,   0,   0,   0,   0,   0,   0, 206,   0,   0],\n",
       "       [  0,   0,   0,   0,   0,   0,   0,   0,   0,   0,  20,   0,   0,\n",
       "          0,  12,   0,   0,  15,  21,   0,   0,  17, 182,   0],\n",
       "       [  0,   0,   0,   0,   0,   2,   0,   0,  43,   0,  21,   0,   0,\n",
       "          0,   0,   0,   0,  19,   0,   0,   0,   0,   0, 247]])"
      ]
     },
     "execution_count": 110,
     "metadata": {},
     "output_type": "execute_result"
    }
   ],
   "source": [
    "confusion_matrix(test_labels,predictions)"
   ]
  },
  {
   "cell_type": "code",
   "execution_count": null,
   "id": "3e770e67-c3c1-4a31-b93f-f9cf65f456ab",
   "metadata": {},
   "outputs": [],
   "source": [
    "import seaborn as sns\n",
    "\n",
    "plt.figure(figsize=(20,10))\n",
    "sns.heatmap(confusion_matrix(test_labels,predictions),annot=True)"
   ]
  },
  {
   "cell_type": "code",
   "execution_count": 115,
   "id": "d2d20e75-bf0c-46d9-bd95-289287bdccb2",
   "metadata": {},
   "outputs": [],
   "source": [
    "model = Sequential()\n",
    "model.add(Conv2D(filters=32,kernel_size=(4,4),input_shape=(28,28,1),activation='relu'))\n",
    "model.add(MaxPool2D(pool_size=(2,2)))\n",
    "\n",
    "#adding another Conv2D and Pooling\n",
    "model.add(Conv2D(filters=32,kernel_size=(4,4),input_shape=(28,28,1),activation='relu'))\n",
    "model.add(MaxPool2D(pool_size=(2,2)))\n",
    "\n",
    "# Flatten the input\n",
    "model.add(Flatten())\n",
    "model.add(Dense(128,activation='relu'))\n",
    "\n",
    "# Output layer, activation is softmax as it is multi-classification problem, 25 neurons means 25 labels\n",
    "model.add(Dense(25,activation='softmax'))\n",
    "\n",
    "# Compile the model\n",
    "model.compile(loss='categorical_crossentropy', optimizer='adam', metrics=['accuracy'])"
   ]
  },
  {
   "cell_type": "code",
   "execution_count": 116,
   "id": "554e3cab-411b-4ded-892a-892a701a9ed0",
   "metadata": {},
   "outputs": [
    {
     "name": "stdout",
     "output_type": "stream",
     "text": [
      "Epoch 1/10\n",
      "\u001b[1m858/858\u001b[0m \u001b[32m━━━━━━━━━━━━━━━━━━━━\u001b[0m\u001b[37m\u001b[0m \u001b[1m4s\u001b[0m 4ms/step - accuracy: 0.4586 - loss: 1.8074 - val_accuracy: 0.8475 - val_loss: 0.4786\n",
      "Epoch 2/10\n",
      "\u001b[1m858/858\u001b[0m \u001b[32m━━━━━━━━━━━━━━━━━━━━\u001b[0m\u001b[37m\u001b[0m \u001b[1m3s\u001b[0m 4ms/step - accuracy: 0.9781 - loss: 0.0967 - val_accuracy: 0.9087 - val_loss: 0.3041\n",
      "Epoch 3/10\n",
      "\u001b[1m858/858\u001b[0m \u001b[32m━━━━━━━━━━━━━━━━━━━━\u001b[0m\u001b[37m\u001b[0m \u001b[1m3s\u001b[0m 4ms/step - accuracy: 0.9987 - loss: 0.0133 - val_accuracy: 0.9162 - val_loss: 0.3578\n"
     ]
    },
    {
     "data": {
      "text/plain": [
       "<keras.src.callbacks.history.History at 0x327cd9a30>"
      ]
     },
     "execution_count": 116,
     "metadata": {},
     "output_type": "execute_result"
    }
   ],
   "source": [
    "early_stop = EarlyStopping(monitor='val_loss',patience=1)\n",
    "model.fit(x_train, train_label_catego,epochs=10,validation_data=(x_test, test_label_catego),callbacks=[early_stop])"
   ]
  },
  {
   "cell_type": "code",
   "execution_count": 117,
   "id": "52179dcf-6efa-4d6d-9c57-5f4c12a54faf",
   "metadata": {},
   "outputs": [
    {
     "data": {
      "text/html": [
       "<div>\n",
       "<style scoped>\n",
       "    .dataframe tbody tr th:only-of-type {\n",
       "        vertical-align: middle;\n",
       "    }\n",
       "\n",
       "    .dataframe tbody tr th {\n",
       "        vertical-align: top;\n",
       "    }\n",
       "\n",
       "    .dataframe thead th {\n",
       "        text-align: right;\n",
       "    }\n",
       "</style>\n",
       "<table border=\"1\" class=\"dataframe\">\n",
       "  <thead>\n",
       "    <tr style=\"text-align: right;\">\n",
       "      <th></th>\n",
       "      <th>accuracy</th>\n",
       "      <th>loss</th>\n",
       "      <th>val_accuracy</th>\n",
       "      <th>val_loss</th>\n",
       "    </tr>\n",
       "  </thead>\n",
       "  <tbody>\n",
       "    <tr>\n",
       "      <th>0</th>\n",
       "      <td>0.708614</td>\n",
       "      <td>0.966754</td>\n",
       "      <td>0.847462</td>\n",
       "      <td>0.478560</td>\n",
       "    </tr>\n",
       "    <tr>\n",
       "      <th>1</th>\n",
       "      <td>0.988818</td>\n",
       "      <td>0.059189</td>\n",
       "      <td>0.908673</td>\n",
       "      <td>0.304139</td>\n",
       "    </tr>\n",
       "    <tr>\n",
       "      <th>2</th>\n",
       "      <td>0.997851</td>\n",
       "      <td>0.014397</td>\n",
       "      <td>0.916202</td>\n",
       "      <td>0.357758</td>\n",
       "    </tr>\n",
       "  </tbody>\n",
       "</table>\n",
       "</div>"
      ],
      "text/plain": [
       "   accuracy      loss  val_accuracy  val_loss\n",
       "0  0.708614  0.966754      0.847462  0.478560\n",
       "1  0.988818  0.059189      0.908673  0.304139\n",
       "2  0.997851  0.014397      0.916202  0.357758"
      ]
     },
     "execution_count": 117,
     "metadata": {},
     "output_type": "execute_result"
    }
   ],
   "source": [
    "metrics = pd.DataFrame(model.history.history)\n",
    "metrics"
   ]
  },
  {
   "cell_type": "code",
   "execution_count": null,
   "id": "3338bf8d-393d-41ea-8d48-b8a946ccc4e6",
   "metadata": {},
   "outputs": [],
   "source": []
  },
  {
   "cell_type": "code",
   "execution_count": null,
   "id": "cc649806-1381-4606-8b10-f342efa41cd8",
   "metadata": {},
   "outputs": [],
   "source": [
    "!pip install scikeras"
   ]
  },
  {
   "cell_type": "code",
   "execution_count": 135,
   "id": "4a3fe7f9-ecdb-4451-beea-8233ec372b00",
   "metadata": {},
   "outputs": [
    {
     "name": "stdout",
     "output_type": "stream",
     "text": [
      "Best: 0.9995264952510062 using {'batch_size': 20, 'epochs': 10, 'model__kernel_initializer': 'uniform', 'model__optimizer': 'adam'}\n"
     ]
    }
   ],
   "source": [
    "from scikeras.wrappers import KerasClassifier\n",
    "from sklearn.model_selection import GridSearchCV\n",
    "\n",
    "def create_model(optimizer='adam', kernel_initializer='uniform'):\n",
    "    model = Sequential()\n",
    "    model.add(Conv2D(32, (3, 3), activation='relu', kernel_initializer=kernel_initializer, input_shape=(28, 28, 1)))\n",
    "    model.add(MaxPooling2D(pool_size=(2, 2)))\n",
    "    model.add(Flatten())\n",
    "    model.add(Dense(64, activation='relu', kernel_initializer=kernel_initializer))\n",
    "    model.add(Dense(32, activation='relu', kernel_initializer=kernel_initializer))\n",
    "    model.add(Dense(25, activation='softmax', kernel_initializer=kernel_initializer))  # 25 classes\n",
    "    model.compile(loss='categorical_crossentropy', optimizer=optimizer, metrics=['accuracy'])\n",
    "    return model\n",
    "    \n",
    "model = KerasClassifier(model=create_model, verbose=0)\n",
    "\n",
    "\n",
    "# Define parameter grid\n",
    "# param_grid = {\n",
    "#     'batch_size': [10, 20, 30],\n",
    "#     'epochs': [10, 20],\n",
    "#     'model__optimizer': ['adam', 'rmsprop'],\n",
    "#     'model__kernel_initializer': ['uniform', 'normal']\n",
    "# }\n",
    "param_grid = {\n",
    "    'batch_size': [10, 20],\n",
    "    'epochs': [10],\n",
    "    'model__optimizer': ['adam'],\n",
    "    'model__kernel_initializer': ['uniform']\n",
    "}\n",
    "\n",
    "grid = GridSearchCV(estimator=model, param_grid=param_grid, cv=3)\n",
    "grid_result = grid.fit(x_train, train_label_catego)\n",
    "\n",
    "# Print best parameters and score\n",
    "print(f\"Best: {grid_result.best_score_} using {grid_result.best_params_}\")"
   ]
  },
  {
   "cell_type": "code",
   "execution_count": 129,
   "id": "a07cc87a-5b35-4279-9b65-3f08be017447",
   "metadata": {},
   "outputs": [
    {
     "data": {
      "text/plain": [
       "(27455, 28, 28, 1)"
      ]
     },
     "execution_count": 129,
     "metadata": {},
     "output_type": "execute_result"
    }
   ],
   "source": [
    "x_train.shape"
   ]
  },
  {
   "cell_type": "code",
   "execution_count": 130,
   "id": "f5b0b76d-6818-4bcf-809e-42c2a11f187f",
   "metadata": {},
   "outputs": [
    {
     "data": {
      "text/plain": [
       "(27455, 25)"
      ]
     },
     "execution_count": 130,
     "metadata": {},
     "output_type": "execute_result"
    }
   ],
   "source": [
    "train_label_catego.shape"
   ]
  },
  {
   "cell_type": "code",
   "execution_count": 136,
   "id": "18531968-93a6-4d7a-9fdd-93d2c238ffb3",
   "metadata": {},
   "outputs": [
    {
     "name": "stdout",
     "output_type": "stream",
     "text": [
      "Fitting 3 folds for each of 10 candidates, totalling 30 fits\n"
     ]
    },
    {
     "name": "stderr",
     "output_type": "stream",
     "text": [
      "/Library/Frameworks/Python.framework/Versions/3.12/lib/python3.12/site-packages/keras/src/layers/convolutional/base_conv.py:107: UserWarning: Do not pass an `input_shape`/`input_dim` argument to a layer. When using Sequential models, prefer using an `Input(shape)` object as the first layer in the model instead.\n",
      "  super().__init__(activity_regularizer=activity_regularizer, **kwargs)\n",
      "/Library/Frameworks/Python.framework/Versions/3.12/lib/python3.12/site-packages/keras/src/layers/convolutional/base_conv.py:107: UserWarning: Do not pass an `input_shape`/`input_dim` argument to a layer. When using Sequential models, prefer using an `Input(shape)` object as the first layer in the model instead.\n",
      "  super().__init__(activity_regularizer=activity_regularizer, **kwargs)\n",
      "/Library/Frameworks/Python.framework/Versions/3.12/lib/python3.12/site-packages/keras/src/layers/convolutional/base_conv.py:107: UserWarning: Do not pass an `input_shape`/`input_dim` argument to a layer. When using Sequential models, prefer using an `Input(shape)` object as the first layer in the model instead.\n",
      "  super().__init__(activity_regularizer=activity_regularizer, **kwargs)\n",
      "/Library/Frameworks/Python.framework/Versions/3.12/lib/python3.12/site-packages/keras/src/layers/convolutional/base_conv.py:107: UserWarning: Do not pass an `input_shape`/`input_dim` argument to a layer. When using Sequential models, prefer using an `Input(shape)` object as the first layer in the model instead.\n",
      "  super().__init__(activity_regularizer=activity_regularizer, **kwargs)\n",
      "/Library/Frameworks/Python.framework/Versions/3.12/lib/python3.12/site-packages/keras/src/layers/convolutional/base_conv.py:107: UserWarning: Do not pass an `input_shape`/`input_dim` argument to a layer. When using Sequential models, prefer using an `Input(shape)` object as the first layer in the model instead.\n",
      "  super().__init__(activity_regularizer=activity_regularizer, **kwargs)\n",
      "/Library/Frameworks/Python.framework/Versions/3.12/lib/python3.12/site-packages/keras/src/layers/convolutional/base_conv.py:107: UserWarning: Do not pass an `input_shape`/`input_dim` argument to a layer. When using Sequential models, prefer using an `Input(shape)` object as the first layer in the model instead.\n",
      "  super().__init__(activity_regularizer=activity_regularizer, **kwargs)\n",
      "/Library/Frameworks/Python.framework/Versions/3.12/lib/python3.12/site-packages/keras/src/layers/convolutional/base_conv.py:107: UserWarning: Do not pass an `input_shape`/`input_dim` argument to a layer. When using Sequential models, prefer using an `Input(shape)` object as the first layer in the model instead.\n",
      "  super().__init__(activity_regularizer=activity_regularizer, **kwargs)\n",
      "/Library/Frameworks/Python.framework/Versions/3.12/lib/python3.12/site-packages/keras/src/layers/convolutional/base_conv.py:107: UserWarning: Do not pass an `input_shape`/`input_dim` argument to a layer. When using Sequential models, prefer using an `Input(shape)` object as the first layer in the model instead.\n",
      "  super().__init__(activity_regularizer=activity_regularizer, **kwargs)\n",
      "/Library/Frameworks/Python.framework/Versions/3.12/lib/python3.12/site-packages/keras/src/layers/convolutional/base_conv.py:107: UserWarning: Do not pass an `input_shape`/`input_dim` argument to a layer. When using Sequential models, prefer using an `Input(shape)` object as the first layer in the model instead.\n",
      "  super().__init__(activity_regularizer=activity_regularizer, **kwargs)\n",
      "/Library/Frameworks/Python.framework/Versions/3.12/lib/python3.12/site-packages/keras/src/layers/convolutional/base_conv.py:107: UserWarning: Do not pass an `input_shape`/`input_dim` argument to a layer. When using Sequential models, prefer using an `Input(shape)` object as the first layer in the model instead.\n",
      "  super().__init__(activity_regularizer=activity_regularizer, **kwargs)\n",
      "/Library/Frameworks/Python.framework/Versions/3.12/lib/python3.12/site-packages/keras/src/layers/convolutional/base_conv.py:107: UserWarning: Do not pass an `input_shape`/`input_dim` argument to a layer. When using Sequential models, prefer using an `Input(shape)` object as the first layer in the model instead.\n",
      "  super().__init__(activity_regularizer=activity_regularizer, **kwargs)\n",
      "/Library/Frameworks/Python.framework/Versions/3.12/lib/python3.12/site-packages/keras/src/layers/convolutional/base_conv.py:107: UserWarning: Do not pass an `input_shape`/`input_dim` argument to a layer. When using Sequential models, prefer using an `Input(shape)` object as the first layer in the model instead.\n",
      "  super().__init__(activity_regularizer=activity_regularizer, **kwargs)\n",
      "/Library/Frameworks/Python.framework/Versions/3.12/lib/python3.12/site-packages/keras/src/layers/convolutional/base_conv.py:107: UserWarning: Do not pass an `input_shape`/`input_dim` argument to a layer. When using Sequential models, prefer using an `Input(shape)` object as the first layer in the model instead.\n",
      "  super().__init__(activity_regularizer=activity_regularizer, **kwargs)\n",
      "/Library/Frameworks/Python.framework/Versions/3.12/lib/python3.12/site-packages/keras/src/layers/convolutional/base_conv.py:107: UserWarning: Do not pass an `input_shape`/`input_dim` argument to a layer. When using Sequential models, prefer using an `Input(shape)` object as the first layer in the model instead.\n",
      "  super().__init__(activity_regularizer=activity_regularizer, **kwargs)\n",
      "/Library/Frameworks/Python.framework/Versions/3.12/lib/python3.12/site-packages/keras/src/layers/convolutional/base_conv.py:107: UserWarning: Do not pass an `input_shape`/`input_dim` argument to a layer. When using Sequential models, prefer using an `Input(shape)` object as the first layer in the model instead.\n",
      "  super().__init__(activity_regularizer=activity_regularizer, **kwargs)\n",
      "/Library/Frameworks/Python.framework/Versions/3.12/lib/python3.12/site-packages/keras/src/layers/convolutional/base_conv.py:107: UserWarning: Do not pass an `input_shape`/`input_dim` argument to a layer. When using Sequential models, prefer using an `Input(shape)` object as the first layer in the model instead.\n",
      "  super().__init__(activity_regularizer=activity_regularizer, **kwargs)\n",
      "/Library/Frameworks/Python.framework/Versions/3.12/lib/python3.12/site-packages/keras/src/layers/convolutional/base_conv.py:107: UserWarning: Do not pass an `input_shape`/`input_dim` argument to a layer. When using Sequential models, prefer using an `Input(shape)` object as the first layer in the model instead.\n",
      "  super().__init__(activity_regularizer=activity_regularizer, **kwargs)\n",
      "/Library/Frameworks/Python.framework/Versions/3.12/lib/python3.12/site-packages/keras/src/layers/convolutional/base_conv.py:107: UserWarning: Do not pass an `input_shape`/`input_dim` argument to a layer. When using Sequential models, prefer using an `Input(shape)` object as the first layer in the model instead.\n",
      "  super().__init__(activity_regularizer=activity_regularizer, **kwargs)\n",
      "/Library/Frameworks/Python.framework/Versions/3.12/lib/python3.12/site-packages/keras/src/layers/convolutional/base_conv.py:107: UserWarning: Do not pass an `input_shape`/`input_dim` argument to a layer. When using Sequential models, prefer using an `Input(shape)` object as the first layer in the model instead.\n",
      "  super().__init__(activity_regularizer=activity_regularizer, **kwargs)\n",
      "/Library/Frameworks/Python.framework/Versions/3.12/lib/python3.12/site-packages/keras/src/layers/convolutional/base_conv.py:107: UserWarning: Do not pass an `input_shape`/`input_dim` argument to a layer. When using Sequential models, prefer using an `Input(shape)` object as the first layer in the model instead.\n",
      "  super().__init__(activity_regularizer=activity_regularizer, **kwargs)\n",
      "/Library/Frameworks/Python.framework/Versions/3.12/lib/python3.12/site-packages/keras/src/layers/convolutional/base_conv.py:107: UserWarning: Do not pass an `input_shape`/`input_dim` argument to a layer. When using Sequential models, prefer using an `Input(shape)` object as the first layer in the model instead.\n",
      "  super().__init__(activity_regularizer=activity_regularizer, **kwargs)\n",
      "/Library/Frameworks/Python.framework/Versions/3.12/lib/python3.12/site-packages/keras/src/layers/convolutional/base_conv.py:107: UserWarning: Do not pass an `input_shape`/`input_dim` argument to a layer. When using Sequential models, prefer using an `Input(shape)` object as the first layer in the model instead.\n",
      "  super().__init__(activity_regularizer=activity_regularizer, **kwargs)\n",
      "/Library/Frameworks/Python.framework/Versions/3.12/lib/python3.12/site-packages/keras/src/layers/convolutional/base_conv.py:107: UserWarning: Do not pass an `input_shape`/`input_dim` argument to a layer. When using Sequential models, prefer using an `Input(shape)` object as the first layer in the model instead.\n",
      "  super().__init__(activity_regularizer=activity_regularizer, **kwargs)\n",
      "/Library/Frameworks/Python.framework/Versions/3.12/lib/python3.12/site-packages/keras/src/layers/convolutional/base_conv.py:107: UserWarning: Do not pass an `input_shape`/`input_dim` argument to a layer. When using Sequential models, prefer using an `Input(shape)` object as the first layer in the model instead.\n",
      "  super().__init__(activity_regularizer=activity_regularizer, **kwargs)\n",
      "/Library/Frameworks/Python.framework/Versions/3.12/lib/python3.12/site-packages/keras/src/layers/convolutional/base_conv.py:107: UserWarning: Do not pass an `input_shape`/`input_dim` argument to a layer. When using Sequential models, prefer using an `Input(shape)` object as the first layer in the model instead.\n",
      "  super().__init__(activity_regularizer=activity_regularizer, **kwargs)\n",
      "/Library/Frameworks/Python.framework/Versions/3.12/lib/python3.12/site-packages/keras/src/layers/convolutional/base_conv.py:107: UserWarning: Do not pass an `input_shape`/`input_dim` argument to a layer. When using Sequential models, prefer using an `Input(shape)` object as the first layer in the model instead.\n",
      "  super().__init__(activity_regularizer=activity_regularizer, **kwargs)\n",
      "/Library/Frameworks/Python.framework/Versions/3.12/lib/python3.12/site-packages/keras/src/layers/convolutional/base_conv.py:107: UserWarning: Do not pass an `input_shape`/`input_dim` argument to a layer. When using Sequential models, prefer using an `Input(shape)` object as the first layer in the model instead.\n",
      "  super().__init__(activity_regularizer=activity_regularizer, **kwargs)\n",
      "/Library/Frameworks/Python.framework/Versions/3.12/lib/python3.12/site-packages/keras/src/layers/convolutional/base_conv.py:107: UserWarning: Do not pass an `input_shape`/`input_dim` argument to a layer. When using Sequential models, prefer using an `Input(shape)` object as the first layer in the model instead.\n",
      "  super().__init__(activity_regularizer=activity_regularizer, **kwargs)\n",
      "/Library/Frameworks/Python.framework/Versions/3.12/lib/python3.12/site-packages/keras/src/layers/convolutional/base_conv.py:107: UserWarning: Do not pass an `input_shape`/`input_dim` argument to a layer. When using Sequential models, prefer using an `Input(shape)` object as the first layer in the model instead.\n",
      "  super().__init__(activity_regularizer=activity_regularizer, **kwargs)\n",
      "/Library/Frameworks/Python.framework/Versions/3.12/lib/python3.12/site-packages/keras/src/layers/convolutional/base_conv.py:107: UserWarning: Do not pass an `input_shape`/`input_dim` argument to a layer. When using Sequential models, prefer using an `Input(shape)` object as the first layer in the model instead.\n",
      "  super().__init__(activity_regularizer=activity_regularizer, **kwargs)\n"
     ]
    },
    {
     "name": "stdout",
     "output_type": "stream",
     "text": [
      "Best: 1.0 using {'model__optimizer': 'rmsprop', 'model__kernel_initializer': 'normal', 'epochs': 10, 'batch_size': 20}\n"
     ]
    }
   ],
   "source": [
    "from sklearn.model_selection import RandomizedSearchCV\n",
    "\n",
    "# Define the parameter grid\n",
    "param_dist = {\n",
    "    'batch_size': [10, 20, 30],\n",
    "    'epochs': [10, 20],\n",
    "    'model__optimizer': ['adam', 'rmsprop'],\n",
    "    'model__kernel_initializer': ['uniform', 'normal']\n",
    "}\n",
    "\n",
    "# Create RandomizedSearchCV object\n",
    "random_search = RandomizedSearchCV(estimator=model, param_distributions=param_dist, n_iter=10, cv=3, verbose=1, n_jobs=-1)\n",
    "\n",
    "# Fit RandomizedSearchCV\n",
    "random_result = random_search.fit(x_train, train_label_catego)\n",
    "\n",
    "# Print best parameters and score\n",
    "print(f\"Best: {random_result.best_score_} using {random_result.best_params_}\")"
   ]
  },
  {
   "cell_type": "code",
   "execution_count": 146,
   "id": "16519e51-be08-446e-b0d5-5473bc776e90",
   "metadata": {},
   "outputs": [],
   "source": [
    "model = Sequential()\n",
    "model.add(Conv2D(filters=32,kernel_size=(4,4),input_shape=(28,28,1),activation='relu'))\n",
    "model.add(MaxPool2D(pool_size=(2,2)))\n",
    "\n",
    "#adding another Conv2D and Pooling\n",
    "model.add(Conv2D(filters=32,kernel_size=(4,4),input_shape=(28,28,1),activation='relu'))\n",
    "model.add(MaxPool2D(pool_size=(2,2)))\n",
    "\n",
    "\n",
    "# Flatten the input\n",
    "model.add(Flatten())\n",
    "model.add(Dense(128,activation='relu'))\n",
    "model.add(Dropout(0.5))  # Dropout layer added\n",
    "model.add(Dense(64, activation='relu', kernel_initializer='normal'))\n",
    "model.add(Dropout(0.5))  # Dropout layer added. Adding dropout helped in improving the accuracy.\n",
    "\n",
    "# Output layer, activation is softmax as it is multi-classification problem, 25 neurons means 25 labels\n",
    "model.add(Dense(25,activation='softmax'))\n",
    "\n",
    "\n",
    "# Compile the model - Tried the best params suggested by GridSearch CV and there is no much improvement. So picking the params from RandomSearchCV\n",
    "#model.compile(loss='categorical_crossentropy', optimizer='adam', metrics=['accuracy'])\n",
    "\n",
    "model.compile(loss='categorical_crossentropy', optimizer='rmsprop', metrics=['accuracy'])\n"
   ]
  },
  {
   "cell_type": "code",
   "execution_count": 147,
   "id": "830f8f01-60c4-44f6-b219-1cfc0a2cb7e3",
   "metadata": {},
   "outputs": [
    {
     "name": "stdout",
     "output_type": "stream",
     "text": [
      "Epoch 1/10\n",
      "\u001b[1m1373/1373\u001b[0m \u001b[32m━━━━━━━━━━━━━━━━━━━━\u001b[0m\u001b[37m\u001b[0m \u001b[1m4s\u001b[0m 3ms/step - accuracy: 0.1580 - loss: 2.7572 - val_accuracy: 0.6846 - val_loss: 0.9289\n",
      "Epoch 2/10\n",
      "\u001b[1m1373/1373\u001b[0m \u001b[32m━━━━━━━━━━━━━━━━━━━━\u001b[0m\u001b[37m\u001b[0m \u001b[1m4s\u001b[0m 3ms/step - accuracy: 0.6438 - loss: 1.0339 - val_accuracy: 0.8544 - val_loss: 0.4242\n",
      "Epoch 3/10\n",
      "\u001b[1m1373/1373\u001b[0m \u001b[32m━━━━━━━━━━━━━━━━━━━━\u001b[0m\u001b[37m\u001b[0m \u001b[1m4s\u001b[0m 3ms/step - accuracy: 0.8216 - loss: 0.5205 - val_accuracy: 0.8982 - val_loss: 0.3151\n",
      "Epoch 4/10\n",
      "\u001b[1m1373/1373\u001b[0m \u001b[32m━━━━━━━━━━━━━━━━━━━━\u001b[0m\u001b[37m\u001b[0m \u001b[1m4s\u001b[0m 3ms/step - accuracy: 0.8938 - loss: 0.3130 - val_accuracy: 0.9317 - val_loss: 0.2479\n",
      "Epoch 5/10\n",
      "\u001b[1m1373/1373\u001b[0m \u001b[32m━━━━━━━━━━━━━━━━━━━━\u001b[0m\u001b[37m\u001b[0m \u001b[1m4s\u001b[0m 3ms/step - accuracy: 0.9284 - loss: 0.2262 - val_accuracy: 0.9364 - val_loss: 0.2353\n",
      "Epoch 6/10\n",
      "\u001b[1m1373/1373\u001b[0m \u001b[32m━━━━━━━━━━━━━━━━━━━━\u001b[0m\u001b[37m\u001b[0m \u001b[1m4s\u001b[0m 3ms/step - accuracy: 0.9443 - loss: 0.1811 - val_accuracy: 0.9332 - val_loss: 0.2678\n",
      "Epoch 7/10\n",
      "\u001b[1m1373/1373\u001b[0m \u001b[32m━━━━━━━━━━━━━━━━━━━━\u001b[0m\u001b[37m\u001b[0m \u001b[1m4s\u001b[0m 3ms/step - accuracy: 0.9480 - loss: 0.1694 - val_accuracy: 0.9398 - val_loss: 0.2257\n",
      "Epoch 8/10\n",
      "\u001b[1m1373/1373\u001b[0m \u001b[32m━━━━━━━━━━━━━━━━━━━━\u001b[0m\u001b[37m\u001b[0m \u001b[1m4s\u001b[0m 3ms/step - accuracy: 0.9520 - loss: 0.1659 - val_accuracy: 0.9427 - val_loss: 0.2129\n",
      "Epoch 9/10\n",
      "\u001b[1m1373/1373\u001b[0m \u001b[32m━━━━━━━━━━━━━━━━━━━━\u001b[0m\u001b[37m\u001b[0m \u001b[1m4s\u001b[0m 3ms/step - accuracy: 0.9506 - loss: 0.1743 - val_accuracy: 0.9251 - val_loss: 0.2608\n",
      "Epoch 10/10\n",
      "\u001b[1m1373/1373\u001b[0m \u001b[32m━━━━━━━━━━━━━━━━━━━━\u001b[0m\u001b[37m\u001b[0m \u001b[1m4s\u001b[0m 3ms/step - accuracy: 0.9542 - loss: 0.1584 - val_accuracy: 0.9381 - val_loss: 0.2449\n"
     ]
    },
    {
     "data": {
      "text/plain": [
       "<keras.src.callbacks.history.History at 0x410137ce0>"
      ]
     },
     "execution_count": 147,
     "metadata": {},
     "output_type": "execute_result"
    }
   ],
   "source": [
    "#early_stop = EarlyStopping(monitor='val_loss',patience=1)\n",
    "model.fit(x_train, train_label_catego,epochs=10,batch_size=20,validation_data=(x_test, test_label_catego))"
   ]
  },
  {
   "cell_type": "code",
   "execution_count": 148,
   "id": "4e59e95f-e524-411d-bc44-90303c58a90d",
   "metadata": {},
   "outputs": [
    {
     "data": {
      "text/html": [
       "<div>\n",
       "<style scoped>\n",
       "    .dataframe tbody tr th:only-of-type {\n",
       "        vertical-align: middle;\n",
       "    }\n",
       "\n",
       "    .dataframe tbody tr th {\n",
       "        vertical-align: top;\n",
       "    }\n",
       "\n",
       "    .dataframe thead th {\n",
       "        text-align: right;\n",
       "    }\n",
       "</style>\n",
       "<table border=\"1\" class=\"dataframe\">\n",
       "  <thead>\n",
       "    <tr style=\"text-align: right;\">\n",
       "      <th></th>\n",
       "      <th>accuracy</th>\n",
       "      <th>loss</th>\n",
       "      <th>val_accuracy</th>\n",
       "      <th>val_loss</th>\n",
       "    </tr>\n",
       "  </thead>\n",
       "  <tbody>\n",
       "    <tr>\n",
       "      <th>0</th>\n",
       "      <td>0.314588</td>\n",
       "      <td>2.171334</td>\n",
       "      <td>0.684607</td>\n",
       "      <td>0.928879</td>\n",
       "    </tr>\n",
       "    <tr>\n",
       "      <th>1</th>\n",
       "      <td>0.703223</td>\n",
       "      <td>0.861743</td>\n",
       "      <td>0.854434</td>\n",
       "      <td>0.424178</td>\n",
       "    </tr>\n",
       "    <tr>\n",
       "      <th>2</th>\n",
       "      <td>0.845347</td>\n",
       "      <td>0.453814</td>\n",
       "      <td>0.898215</td>\n",
       "      <td>0.315113</td>\n",
       "    </tr>\n",
       "    <tr>\n",
       "      <th>3</th>\n",
       "      <td>0.905992</td>\n",
       "      <td>0.282783</td>\n",
       "      <td>0.931679</td>\n",
       "      <td>0.247925</td>\n",
       "    </tr>\n",
       "    <tr>\n",
       "      <th>4</th>\n",
       "      <td>0.930905</td>\n",
       "      <td>0.215477</td>\n",
       "      <td>0.936419</td>\n",
       "      <td>0.235328</td>\n",
       "    </tr>\n",
       "    <tr>\n",
       "      <th>5</th>\n",
       "      <td>0.944491</td>\n",
       "      <td>0.175565</td>\n",
       "      <td>0.933213</td>\n",
       "      <td>0.267832</td>\n",
       "    </tr>\n",
       "    <tr>\n",
       "      <th>6</th>\n",
       "      <td>0.950282</td>\n",
       "      <td>0.163363</td>\n",
       "      <td>0.939766</td>\n",
       "      <td>0.225692</td>\n",
       "    </tr>\n",
       "    <tr>\n",
       "      <th>7</th>\n",
       "      <td>0.951557</td>\n",
       "      <td>0.166561</td>\n",
       "      <td>0.942694</td>\n",
       "      <td>0.212869</td>\n",
       "    </tr>\n",
       "    <tr>\n",
       "      <th>8</th>\n",
       "      <td>0.950246</td>\n",
       "      <td>0.176249</td>\n",
       "      <td>0.925125</td>\n",
       "      <td>0.260823</td>\n",
       "    </tr>\n",
       "    <tr>\n",
       "      <th>9</th>\n",
       "      <td>0.953961</td>\n",
       "      <td>0.162839</td>\n",
       "      <td>0.938093</td>\n",
       "      <td>0.244861</td>\n",
       "    </tr>\n",
       "  </tbody>\n",
       "</table>\n",
       "</div>"
      ],
      "text/plain": [
       "   accuracy      loss  val_accuracy  val_loss\n",
       "0  0.314588  2.171334      0.684607  0.928879\n",
       "1  0.703223  0.861743      0.854434  0.424178\n",
       "2  0.845347  0.453814      0.898215  0.315113\n",
       "3  0.905992  0.282783      0.931679  0.247925\n",
       "4  0.930905  0.215477      0.936419  0.235328\n",
       "5  0.944491  0.175565      0.933213  0.267832\n",
       "6  0.950282  0.163363      0.939766  0.225692\n",
       "7  0.951557  0.166561      0.942694  0.212869\n",
       "8  0.950246  0.176249      0.925125  0.260823\n",
       "9  0.953961  0.162839      0.938093  0.244861"
      ]
     },
     "execution_count": 148,
     "metadata": {},
     "output_type": "execute_result"
    }
   ],
   "source": [
    "metrics = pd.DataFrame(model.history.history)\n",
    "metrics"
   ]
  },
  {
   "cell_type": "code",
   "execution_count": 149,
   "id": "b2218101-0289-4d01-8975-fff2ec412389",
   "metadata": {},
   "outputs": [
    {
     "data": {
      "text/plain": [
       "<Axes: >"
      ]
     },
     "execution_count": 149,
     "metadata": {},
     "output_type": "execute_result"
    },
    {
     "data": {
      "image/png": "[encoded data removed]",
      "text/plain": [
       "<Figure size 640x480 with 1 Axes>"
      ]
     },
     "metadata": {},
     "output_type": "display_data"
    }
   ],
   "source": [
    "metrics.plot()"
   ]
  },
  {
   "cell_type": "code",
   "execution_count": 150,
   "id": "bd890f71-63b6-400d-b2df-15a75ff5df68",
   "metadata": {},
   "outputs": [
    {
     "data": {
      "text/plain": [
       "<Axes: >"
      ]
     },
     "execution_count": 150,
     "metadata": {},
     "output_type": "execute_result"
    },
    {
     "data": {
      "image/png": "[encoded data removed]",
      "text/plain": [
       "<Figure size 640x480 with 1 Axes>"
      ]
     },
     "metadata": {},
     "output_type": "display_data"
    }
   ],
   "source": [
    "metrics[['loss','val_loss']].plot()"
   ]
  },
  {
   "cell_type": "code",
   "execution_count": 151,
   "id": "5d3a1bd0-6a2a-43cd-8bf7-8f6630628afd",
   "metadata": {},
   "outputs": [
    {
     "data": {
      "text/plain": [
       "<Axes: >"
      ]
     },
     "execution_count": 151,
     "metadata": {},
     "output_type": "execute_result"
    },
    {
     "data": {
      "image/png": "[encoded data removed]",
      "text/plain": [
       "<Figure size 640x480 with 1 Axes>"
      ]
     },
     "metadata": {},
     "output_type": "display_data"
    }
   ],
   "source": [
    "metrics[['accuracy','val_accuracy']].plot()"
   ]
  },
  {
   "cell_type": "code",
   "execution_count": 152,
   "id": "257cd689-56b6-40c9-96c5-40bfb498686a",
   "metadata": {},
   "outputs": [
    {
     "data": {
      "text/plain": [
       "[0.24486128985881805, 0.9380925893783569]"
      ]
     },
     "execution_count": 152,
     "metadata": {},
     "output_type": "execute_result"
    }
   ],
   "source": [
    "model.evaluate(x_test, test_label_catego, verbose=0)"
   ]
  },
  {
   "cell_type": "code",
   "execution_count": 153,
   "id": "aafae198-8216-4f71-b554-aaacc560022b",
   "metadata": {},
   "outputs": [
    {
     "name": "stdout",
     "output_type": "stream",
     "text": [
      "\u001b[1m225/225\u001b[0m \u001b[32m━━━━━━━━━━━━━━━━━━━━\u001b[0m\u001b[37m\u001b[0m \u001b[1m0s\u001b[0m 1ms/step\n",
      "              precision    recall  f1-score   support\n",
      "\n",
      "           0       0.85      1.00      0.92       331\n",
      "           1       1.00      0.95      0.98       432\n",
      "           2       1.00      0.84      0.91       310\n",
      "           3       1.00      0.91      0.96       245\n",
      "           4       0.96      0.95      0.96       498\n",
      "           5       0.96      1.00      0.98       247\n",
      "           6       0.89      0.99      0.94       348\n",
      "           7       0.90      0.95      0.93       436\n",
      "           8       0.89      0.88      0.88       288\n",
      "          10       0.93      0.95      0.94       331\n",
      "          11       0.96      1.00      0.98       209\n",
      "          12       0.86      0.93      0.89       394\n",
      "          13       0.98      0.71      0.82       291\n",
      "          14       0.86      1.00      0.93       246\n",
      "          15       0.99      0.98      0.99       347\n",
      "          16       0.96      1.00      0.98       164\n",
      "          17       0.87      0.97      0.92       144\n",
      "          18       0.96      1.00      0.98       246\n",
      "          19       1.00      0.57      0.72       248\n",
      "          20       0.98      1.00      0.99       266\n",
      "          21       0.99      1.00      1.00       346\n",
      "          22       0.99      1.00      0.99       206\n",
      "          23       0.95      1.00      0.97       267\n",
      "          24       0.89      0.94      0.91       332\n",
      "\n",
      "    accuracy                           0.94      7172\n",
      "   macro avg       0.94      0.94      0.94      7172\n",
      "weighted avg       0.94      0.94      0.94      7172\n",
      "\n"
     ]
    }
   ],
   "source": [
    "from sklearn.metrics import classification_report,confusion_matrix\n",
    "\n",
    "predictions_prob = model.predict(x_test)\n",
    "predictions = np.argmax(predictions_prob, axis=1)\n",
    "print(classification_report(y_true=test_labels, y_pred=predictions))"
   ]
  },
  {
   "cell_type": "code",
   "execution_count": null,
   "id": "4e0f9448-4e68-42bb-88c1-313991241a59",
   "metadata": {},
   "outputs": [],
   "source": []
  },
  {
   "cell_type": "code",
   "execution_count": 167,
   "id": "f7e3261e-cd98-4cef-a23a-1cc0c46b2de1",
   "metadata": {},
   "outputs": [
    {
     "name": "stdout",
     "output_type": "stream",
     "text": [
      "Images of training generator have shape: (27455, 28, 28, 1)\n",
      "Labels of training generator have shape: (27455, 25)\n",
      "Images of validation generator have shape: (7172, 28, 28, 1)\n",
      "Labels of validation generator have shape: (7172, 25)\n"
     ]
    }
   ],
   "source": [
    "from tensorflow.keras.preprocessing.image import ImageDataGenerator\n",
    "\n",
    "# Define the data generator with normalization and augmentation\n",
    "datagen = ImageDataGenerator(\n",
    "    rescale=1./255,  # Normalization to [0, 1]\n",
    "    rotation_range=20,\n",
    "    width_shift_range=0.2,\n",
    "    height_shift_range=0.2,\n",
    "    shear_range=0.2,\n",
    "    zoom_range=0.2,\n",
    "    horizontal_flip=True,\n",
    "    fill_mode='nearest'\n",
    ")\n",
    "\n",
    "# Use the data generator to augment and normalize training data\n",
    "train_generator = datagen.flow(x_train, train_label_catego, batch_size=20)\n",
    "\n",
    "validation_datagen = ImageDataGenerator(\n",
    "    rescale=1 / 255)\n",
    "\n",
    " \n",
    "validation_generator = validation_datagen.flow(x=x_test,\n",
    "                                                 y=test_label_catego,\n",
    "                                                 batch_size=32) \n",
    "\n",
    "print(f\"Images of training generator have shape: {train_generator.x.shape}\")\n",
    "print(f\"Labels of training generator have shape: {train_generator.y.shape}\")\n",
    "print(f\"Images of validation generator have shape: {validation_generator.x.shape}\")\n",
    "print(f\"Labels of validation generator have shape: {validation_generator.y.shape}\")"
   ]
  },
  {
   "cell_type": "code",
   "execution_count": 174,
   "id": "29edf60f-36d1-4dad-b628-682535ee6c59",
   "metadata": {},
   "outputs": [],
   "source": [
    "def create_model():\n",
    "    model = tf.keras.models.Sequential([\n",
    "    tf.keras.layers.Conv2D(32, (3,3), activation='relu', input_shape=(28, 28, 1)),\n",
    "    tf.keras.layers.MaxPooling2D(2,2),\n",
    "    tf.keras.layers.Conv2D(32, (3,3), activation='relu'),\n",
    "    tf.keras.layers.MaxPooling2D(2,2),\n",
    "    tf.keras.layers.Flatten(),\n",
    "    tf.keras.layers.Dense(512, activation='relu'),\n",
    "    tf.keras.layers.Dense(25, activation='softmax')])\n",
    "  \n",
    "\n",
    "    model.compile(\n",
    "    optimizer='adam',\n",
    "    loss='sparse_categorical_crossentropy',\n",
    "    metrics=['accuracy'])\n",
    "   \n",
    "  \n",
    "    return model"
   ]
  },
  {
   "cell_type": "code",
   "execution_count": 175,
   "id": "0346646b-ffa2-4fec-b962-3b8582ccf2d9",
   "metadata": {},
   "outputs": [],
   "source": [
    "model = create_model()"
   ]
  },
  {
   "cell_type": "code",
   "execution_count": 176,
   "id": "2a203e45-7b91-4998-befb-d2736703dc62",
   "metadata": {},
   "outputs": [
    {
     "name": "stdout",
     "output_type": "stream",
     "text": [
      "Epoch 1/30\n",
      "\u001b[1m1373/1373\u001b[0m \u001b[32m━━━━━━━━━━━━━━━━━━━━\u001b[0m\u001b[37m\u001b[0m \u001b[1m5s\u001b[0m 3ms/step - accuracy: 0.0460 - loss: 3.1890 - val_accuracy: 0.0344 - val_loss: 3.1950\n",
      "Epoch 2/30\n",
      "\u001b[1m1373/1373\u001b[0m \u001b[32m━━━━━━━━━━━━━━━━━━━━\u001b[0m\u001b[37m\u001b[0m \u001b[1m5s\u001b[0m 3ms/step - accuracy: 0.0439 - loss: 3.1781 - val_accuracy: 0.0201 - val_loss: 3.1935\n",
      "Epoch 3/30\n",
      "\u001b[1m1373/1373\u001b[0m \u001b[32m━━━━━━━━━━━━━━━━━━━━\u001b[0m\u001b[37m\u001b[0m \u001b[1m5s\u001b[0m 3ms/step - accuracy: 0.0443 - loss: 3.1785 - val_accuracy: 0.0201 - val_loss: 3.2056\n",
      "Epoch 4/30\n",
      "\u001b[1m1373/1373\u001b[0m \u001b[32m━━━━━━━━━━━━━━━━━━━━\u001b[0m\u001b[37m\u001b[0m \u001b[1m5s\u001b[0m 3ms/step - accuracy: 0.0466 - loss: 3.1764 - val_accuracy: 0.0201 - val_loss: 3.2027\n",
      "Epoch 5/30\n",
      "\u001b[1m1373/1373\u001b[0m \u001b[32m━━━━━━━━━━━━━━━━━━━━\u001b[0m\u001b[37m\u001b[0m \u001b[1m5s\u001b[0m 3ms/step - accuracy: 0.0470 - loss: 3.1765 - val_accuracy: 0.0343 - val_loss: 3.2045\n",
      "Epoch 6/30\n",
      "\u001b[1m1373/1373\u001b[0m \u001b[32m━━━━━━━━━━━━━━━━━━━━\u001b[0m\u001b[37m\u001b[0m \u001b[1m5s\u001b[0m 3ms/step - accuracy: 0.0453 - loss: 3.1762 - val_accuracy: 0.0229 - val_loss: 3.2026\n",
      "Epoch 7/30\n",
      "\u001b[1m1373/1373\u001b[0m \u001b[32m━━━━━━━━━━━━━━━━━━━━\u001b[0m\u001b[37m\u001b[0m \u001b[1m5s\u001b[0m 3ms/step - accuracy: 0.0463 - loss: 3.1770 - val_accuracy: 0.0201 - val_loss: 3.2005\n",
      "Epoch 8/30\n",
      "\u001b[1m1373/1373\u001b[0m \u001b[32m━━━━━━━━━━━━━━━━━━━━\u001b[0m\u001b[37m\u001b[0m \u001b[1m5s\u001b[0m 3ms/step - accuracy: 0.0459 - loss: 3.1765 - val_accuracy: 0.0201 - val_loss: 3.1991\n",
      "Epoch 9/30\n",
      "\u001b[1m1373/1373\u001b[0m \u001b[32m━━━━━━━━━━━━━━━━━━━━\u001b[0m\u001b[37m\u001b[0m \u001b[1m5s\u001b[0m 3ms/step - accuracy: 0.0463 - loss: 3.1762 - val_accuracy: 0.0201 - val_loss: 3.2022\n",
      "Epoch 10/30\n",
      "\u001b[1m1373/1373\u001b[0m \u001b[32m━━━━━━━━━━━━━━━━━━━━\u001b[0m\u001b[37m\u001b[0m \u001b[1m5s\u001b[0m 3ms/step - accuracy: 0.0450 - loss: 3.1768 - val_accuracy: 0.0201 - val_loss: 3.2036\n",
      "Epoch 11/30\n",
      "\u001b[1m1373/1373\u001b[0m \u001b[32m━━━━━━━━━━━━━━━━━━━━\u001b[0m\u001b[37m\u001b[0m \u001b[1m5s\u001b[0m 3ms/step - accuracy: 0.0438 - loss: 3.1761 - val_accuracy: 0.0201 - val_loss: 3.1987\n",
      "Epoch 12/30\n",
      "\u001b[1m1373/1373\u001b[0m \u001b[32m━━━━━━━━━━━━━━━━━━━━\u001b[0m\u001b[37m\u001b[0m \u001b[1m5s\u001b[0m 3ms/step - accuracy: 0.0478 - loss: 3.1757 - val_accuracy: 0.0201 - val_loss: 3.1982\n",
      "Epoch 13/30\n",
      "\u001b[1m1373/1373\u001b[0m \u001b[32m━━━━━━━━━━━━━━━━━━━━\u001b[0m\u001b[37m\u001b[0m \u001b[1m4s\u001b[0m 3ms/step - accuracy: 0.0449 - loss: 3.1748 - val_accuracy: 0.0201 - val_loss: 3.1991\n",
      "Epoch 14/30\n",
      "\u001b[1m1373/1373\u001b[0m \u001b[32m━━━━━━━━━━━━━━━━━━━━\u001b[0m\u001b[37m\u001b[0m \u001b[1m5s\u001b[0m 3ms/step - accuracy: 0.0475 - loss: 3.1755 - val_accuracy: 0.0201 - val_loss: 3.1999\n",
      "Epoch 15/30\n",
      "\u001b[1m1373/1373\u001b[0m \u001b[32m━━━━━━━━━━━━━━━━━━━━\u001b[0m\u001b[37m\u001b[0m \u001b[1m5s\u001b[0m 3ms/step - accuracy: 0.0468 - loss: 3.1763 - val_accuracy: 0.0201 - val_loss: 3.2008\n",
      "Epoch 16/30\n",
      "\u001b[1m1373/1373\u001b[0m \u001b[32m━━━━━━━━━━━━━━━━━━━━\u001b[0m\u001b[37m\u001b[0m \u001b[1m5s\u001b[0m 4ms/step - accuracy: 0.0496 - loss: 3.1762 - val_accuracy: 0.0229 - val_loss: 3.2016\n",
      "Epoch 17/30\n",
      "\u001b[1m1373/1373\u001b[0m \u001b[32m━━━━━━━━━━━━━━━━━━━━\u001b[0m\u001b[37m\u001b[0m \u001b[1m5s\u001b[0m 4ms/step - accuracy: 0.0473 - loss: 3.1752 - val_accuracy: 0.0229 - val_loss: 3.2008\n",
      "Epoch 18/30\n",
      "\u001b[1m1373/1373\u001b[0m \u001b[32m━━━━━━━━━━━━━━━━━━━━\u001b[0m\u001b[37m\u001b[0m \u001b[1m5s\u001b[0m 4ms/step - accuracy: 0.0451 - loss: 3.1763 - val_accuracy: 0.0201 - val_loss: 3.2016\n",
      "Epoch 19/30\n",
      "\u001b[1m1373/1373\u001b[0m \u001b[32m━━━━━━━━━━━━━━━━━━━━\u001b[0m\u001b[37m\u001b[0m \u001b[1m5s\u001b[0m 3ms/step - accuracy: 0.0484 - loss: 3.1759 - val_accuracy: 0.0229 - val_loss: 3.2011\n",
      "Epoch 20/30\n",
      "\u001b[1m1373/1373\u001b[0m \u001b[32m━━━━━━━━━━━━━━━━━━━━\u001b[0m\u001b[37m\u001b[0m \u001b[1m5s\u001b[0m 4ms/step - accuracy: 0.0476 - loss: 3.1754 - val_accuracy: 0.0229 - val_loss: 3.2005\n",
      "Epoch 21/30\n",
      "\u001b[1m1373/1373\u001b[0m \u001b[32m━━━━━━━━━━━━━━━━━━━━\u001b[0m\u001b[37m\u001b[0m \u001b[1m5s\u001b[0m 3ms/step - accuracy: 0.0450 - loss: 3.1742 - val_accuracy: 0.0229 - val_loss: 3.2005\n",
      "Epoch 22/30\n",
      "\u001b[1m1373/1373\u001b[0m \u001b[32m━━━━━━━━━━━━━━━━━━━━\u001b[0m\u001b[37m\u001b[0m \u001b[1m4s\u001b[0m 3ms/step - accuracy: 0.0447 - loss: 3.1760 - val_accuracy: 0.0229 - val_loss: 3.2008\n",
      "Epoch 23/30\n",
      "\u001b[1m1373/1373\u001b[0m \u001b[32m━━━━━━━━━━━━━━━━━━━━\u001b[0m\u001b[37m\u001b[0m \u001b[1m5s\u001b[0m 3ms/step - accuracy: 0.0488 - loss: 3.1759 - val_accuracy: 0.0201 - val_loss: 3.2016\n",
      "Epoch 24/30\n",
      "\u001b[1m1373/1373\u001b[0m \u001b[32m━━━━━━━━━━━━━━━━━━━━\u001b[0m\u001b[37m\u001b[0m \u001b[1m5s\u001b[0m 4ms/step - accuracy: 0.0480 - loss: 3.1755 - val_accuracy: 0.0229 - val_loss: 3.2013\n",
      "Epoch 25/30\n",
      "\u001b[1m1373/1373\u001b[0m \u001b[32m━━━━━━━━━━━━━━━━━━━━\u001b[0m\u001b[37m\u001b[0m \u001b[1m5s\u001b[0m 3ms/step - accuracy: 0.0447 - loss: 3.1761 - val_accuracy: 0.0201 - val_loss: 3.2019\n",
      "Epoch 26/30\n",
      "\u001b[1m1373/1373\u001b[0m \u001b[32m━━━━━━━━━━━━━━━━━━━━\u001b[0m\u001b[37m\u001b[0m \u001b[1m5s\u001b[0m 3ms/step - accuracy: 0.0483 - loss: 3.1761 - val_accuracy: 0.0229 - val_loss: 3.2023\n",
      "Epoch 27/30\n",
      "\u001b[1m1373/1373\u001b[0m \u001b[32m━━━━━━━━━━━━━━━━━━━━\u001b[0m\u001b[37m\u001b[0m \u001b[1m5s\u001b[0m 3ms/step - accuracy: 0.0467 - loss: 3.1755 - val_accuracy: 0.0201 - val_loss: 3.2009\n",
      "Epoch 28/30\n",
      "\u001b[1m1373/1373\u001b[0m \u001b[32m━━━━━━━━━━━━━━━━━━━━\u001b[0m\u001b[37m\u001b[0m \u001b[1m4s\u001b[0m 3ms/step - accuracy: 0.0441 - loss: 3.1757 - val_accuracy: 0.0201 - val_loss: 3.2009\n",
      "Epoch 29/30\n",
      "\u001b[1m1373/1373\u001b[0m \u001b[32m━━━━━━━━━━━━━━━━━━━━\u001b[0m\u001b[37m\u001b[0m \u001b[1m4s\u001b[0m 3ms/step - accuracy: 0.0469 - loss: 3.1757 - val_accuracy: 0.0201 - val_loss: 3.2012\n",
      "Epoch 30/30\n",
      "\u001b[1m1373/1373\u001b[0m \u001b[32m━━━━━━━━━━━━━━━━━━━━\u001b[0m\u001b[37m\u001b[0m \u001b[1m5s\u001b[0m 4ms/step - accuracy: 0.0446 - loss: 3.1758 - val_accuracy: 0.0201 - val_loss: 3.2016\n"
     ]
    }
   ],
   "source": [
    "\n",
    "# Train our model\n",
    "history = model.fit(train_generator,\n",
    "                    epochs=30,\n",
    "                    validation_data=validation_generator)"
   ]
  },
  {
   "cell_type": "markdown",
   "id": "7cfa9815-9347-4d09-b40e-396a934ec51e",
   "metadata": {},
   "source": [
    "## The overall acccuracy is 94% "
   ]
  }
 ],
 "metadata": {
  "kernelspec": {
   "display_name": "Python 3 (ipykernel)",
   "language": "python",
   "name": "python3"
  },
  "language_info": {
   "codemirror_mode": {
    "name": "ipython",
    "version": 3
   },
   "file_extension": ".py",
   "mimetype": "text/x-python",
   "name": "python",
   "nbconvert_exporter": "python",
   "pygments_lexer": "ipython3",
   "version": "3.12.3"
  }
 },
 "nbformat": 4,
 "nbformat_minor": 5
}
